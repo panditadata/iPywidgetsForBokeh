{
 "cells": [
  {
   "cell_type": "markdown",
   "metadata": {},
   "source": [
    "# ipywidgets\n",
    "\n",
    "Slider"
   ]
  },
  {
   "cell_type": "code",
   "execution_count": 1,
   "metadata": {},
   "outputs": [],
   "source": [
    "from ipywidgets import IntSlider"
   ]
  },
  {
   "cell_type": "code",
   "execution_count": 2,
   "metadata": {
    "scrolled": true
   },
   "outputs": [
    {
     "data": {
      "application/vnd.jupyter.widget-view+json": {
       "model_id": "718cec7893fb415aa1d759ce77d1832f",
       "version_major": 2,
       "version_minor": 0
      },
      "text/plain": [
       "IntSlider(value=50)"
      ]
     },
     "metadata": {},
     "output_type": "display_data"
    }
   ],
   "source": [
    "from ipywidgets import IntSlider\n",
    "slider = IntSlider(value=50)\n",
    "slider"
   ]
  },
  {
   "cell_type": "code",
   "execution_count": 3,
   "metadata": {},
   "outputs": [
    {
     "data": {
      "text/plain": [
       "50"
      ]
     },
     "execution_count": 3,
     "metadata": {},
     "output_type": "execute_result"
    }
   ],
   "source": [
    "slider.value"
   ]
  },
  {
   "cell_type": "markdown",
   "metadata": {},
   "source": [
    "Textbox text"
   ]
  },
  {
   "cell_type": "code",
   "execution_count": 4,
   "metadata": {},
   "outputs": [
    {
     "data": {
      "application/vnd.jupyter.widget-view+json": {
       "model_id": "c0f1eed516ad4c16b2246ed77e1b0baa",
       "version_major": 2,
       "version_minor": 0
      },
      "text/plain": [
       "Text(value='Hello World!', disabled=True)"
      ]
     },
     "metadata": {},
     "output_type": "display_data"
    }
   ],
   "source": [
    "import ipywidgets as widgets4\n",
    "widgets4.Text(value='Hello World!', disabled=True)"
   ]
  },
  {
   "cell_type": "markdown",
   "metadata": {},
   "source": [
    "Slider Value in HTML"
   ]
  },
  {
   "cell_type": "code",
   "execution_count": 5,
   "metadata": {},
   "outputs": [],
   "source": [
    "from ipywidgets import HTML"
   ]
  },
  {
   "cell_type": "code",
   "execution_count": 6,
   "metadata": {},
   "outputs": [
    {
     "data": {
      "application/vnd.jupyter.widget-view+json": {
       "model_id": "bff19d8d8f1240089231c42d65d2e676",
       "version_major": 2,
       "version_minor": 0
      },
      "text/plain": [
       "HTML(value=\"The slider's value is <b>50</b>\")"
      ]
     },
     "metadata": {},
     "output_type": "display_data"
    }
   ],
   "source": [
    "text=HTML(\"The slider's value is <b>{}</b>\".format(slider.value))\n",
    "text"
   ]
  },
  {
   "cell_type": "code",
   "execution_count": 7,
   "metadata": {},
   "outputs": [
    {
     "data": {
      "text/html": [
       "\n",
       "    <div class=\"bk-root\">\n",
       "        <a href=\"https://bokeh.pydata.org\" target=\"_blank\" class=\"bk-logo bk-logo-small bk-logo-notebook\"></a>\n",
       "        <span id=\"5f2f30ef-e1bd-4b92-bfeb-8c4f5123b131\">Loading BokehJS ...</span>\n",
       "    </div>"
      ]
     },
     "metadata": {},
     "output_type": "display_data"
    },
    {
     "data": {
      "application/javascript": [
       "\n",
       "(function(root) {\n",
       "  function now() {\n",
       "    return new Date();\n",
       "  }\n",
       "\n",
       "  var force = true;\n",
       "\n",
       "  if (typeof (root._bokeh_onload_callbacks) === \"undefined\" || force === true) {\n",
       "    root._bokeh_onload_callbacks = [];\n",
       "    root._bokeh_is_loading = undefined;\n",
       "  }\n",
       "\n",
       "  var JS_MIME_TYPE = 'application/javascript';\n",
       "  var HTML_MIME_TYPE = 'text/html';\n",
       "  var EXEC_MIME_TYPE = 'application/vnd.bokehjs_exec.v0+json';\n",
       "  var CLASS_NAME = 'output_bokeh rendered_html';\n",
       "\n",
       "  /**\n",
       "   * Render data to the DOM node\n",
       "   */\n",
       "  function render(props, node) {\n",
       "    var script = document.createElement(\"script\");\n",
       "    node.appendChild(script);\n",
       "  }\n",
       "\n",
       "  /**\n",
       "   * Handle when an output is cleared or removed\n",
       "   */\n",
       "  function handleClearOutput(event, handle) {\n",
       "    var cell = handle.cell;\n",
       "\n",
       "    var id = cell.output_area._bokeh_element_id;\n",
       "    var server_id = cell.output_area._bokeh_server_id;\n",
       "    // Clean up Bokeh references\n",
       "    if (id !== undefined) {\n",
       "      Bokeh.index[id].model.document.clear();\n",
       "      delete Bokeh.index[id];\n",
       "    }\n",
       "\n",
       "    if (server_id !== undefined) {\n",
       "      // Clean up Bokeh references\n",
       "      var cmd = \"from bokeh.io.state import curstate; print(curstate().uuid_to_server['\" + server_id + \"'].get_sessions()[0].document.roots[0]._id)\";\n",
       "      cell.notebook.kernel.execute(cmd, {\n",
       "        iopub: {\n",
       "          output: function(msg) {\n",
       "            var element_id = msg.content.text.trim();\n",
       "            Bokeh.index[element_id].model.document.clear();\n",
       "            delete Bokeh.index[element_id];\n",
       "          }\n",
       "        }\n",
       "      });\n",
       "      // Destroy server and session\n",
       "      var cmd = \"import bokeh.io.notebook as ion; ion.destroy_server('\" + server_id + \"')\";\n",
       "      cell.notebook.kernel.execute(cmd);\n",
       "    }\n",
       "  }\n",
       "\n",
       "  /**\n",
       "   * Handle when a new output is added\n",
       "   */\n",
       "  function handleAddOutput(event, handle) {\n",
       "    var output_area = handle.output_area;\n",
       "    var output = handle.output;\n",
       "\n",
       "    // limit handleAddOutput to display_data with EXEC_MIME_TYPE content only\n",
       "    if ((output.output_type != \"display_data\") || (!output.data.hasOwnProperty(EXEC_MIME_TYPE))) {\n",
       "      return\n",
       "    }\n",
       "\n",
       "    var toinsert = output_area.element.find(\".\" + CLASS_NAME.split(' ')[0]);\n",
       "\n",
       "    if (output.metadata[EXEC_MIME_TYPE][\"id\"] !== undefined) {\n",
       "      toinsert[toinsert.length - 1].firstChild.textContent = output.data[JS_MIME_TYPE];\n",
       "      // store reference to embed id on output_area\n",
       "      output_area._bokeh_element_id = output.metadata[EXEC_MIME_TYPE][\"id\"];\n",
       "    }\n",
       "    if (output.metadata[EXEC_MIME_TYPE][\"server_id\"] !== undefined) {\n",
       "      var bk_div = document.createElement(\"div\");\n",
       "      bk_div.innerHTML = output.data[HTML_MIME_TYPE];\n",
       "      var script_attrs = bk_div.children[0].attributes;\n",
       "      for (var i = 0; i < script_attrs.length; i++) {\n",
       "        toinsert[toinsert.length - 1].firstChild.setAttribute(script_attrs[i].name, script_attrs[i].value);\n",
       "      }\n",
       "      // store reference to server id on output_area\n",
       "      output_area._bokeh_server_id = output.metadata[EXEC_MIME_TYPE][\"server_id\"];\n",
       "    }\n",
       "  }\n",
       "\n",
       "  function register_renderer(events, OutputArea) {\n",
       "\n",
       "    function append_mime(data, metadata, element) {\n",
       "      // create a DOM node to render to\n",
       "      var toinsert = this.create_output_subarea(\n",
       "        metadata,\n",
       "        CLASS_NAME,\n",
       "        EXEC_MIME_TYPE\n",
       "      );\n",
       "      this.keyboard_manager.register_events(toinsert);\n",
       "      // Render to node\n",
       "      var props = {data: data, metadata: metadata[EXEC_MIME_TYPE]};\n",
       "      render(props, toinsert[toinsert.length - 1]);\n",
       "      element.append(toinsert);\n",
       "      return toinsert\n",
       "    }\n",
       "\n",
       "    /* Handle when an output is cleared or removed */\n",
       "    events.on('clear_output.CodeCell', handleClearOutput);\n",
       "    events.on('delete.Cell', handleClearOutput);\n",
       "\n",
       "    /* Handle when a new output is added */\n",
       "    events.on('output_added.OutputArea', handleAddOutput);\n",
       "\n",
       "    /**\n",
       "     * Register the mime type and append_mime function with output_area\n",
       "     */\n",
       "    OutputArea.prototype.register_mime_type(EXEC_MIME_TYPE, append_mime, {\n",
       "      /* Is output safe? */\n",
       "      safe: true,\n",
       "      /* Index of renderer in `output_area.display_order` */\n",
       "      index: 0\n",
       "    });\n",
       "  }\n",
       "\n",
       "  // register the mime type if in Jupyter Notebook environment and previously unregistered\n",
       "  if (root.Jupyter !== undefined) {\n",
       "    var events = require('base/js/events');\n",
       "    var OutputArea = require('notebook/js/outputarea').OutputArea;\n",
       "\n",
       "    if (OutputArea.prototype.mime_types().indexOf(EXEC_MIME_TYPE) == -1) {\n",
       "      register_renderer(events, OutputArea);\n",
       "    }\n",
       "  }\n",
       "\n",
       "  \n",
       "  if (typeof (root._bokeh_timeout) === \"undefined\" || force === true) {\n",
       "    root._bokeh_timeout = Date.now() + 5000;\n",
       "    root._bokeh_failed_load = false;\n",
       "  }\n",
       "\n",
       "  var NB_LOAD_WARNING = {'data': {'text/html':\n",
       "     \"<div style='background-color: #fdd'>\\n\"+\n",
       "     \"<p>\\n\"+\n",
       "     \"BokehJS does not appear to have successfully loaded. If loading BokehJS from CDN, this \\n\"+\n",
       "     \"may be due to a slow or bad network connection. Possible fixes:\\n\"+\n",
       "     \"</p>\\n\"+\n",
       "     \"<ul>\\n\"+\n",
       "     \"<li>re-rerun `output_notebook()` to attempt to load from CDN again, or</li>\\n\"+\n",
       "     \"<li>use INLINE resources instead, as so:</li>\\n\"+\n",
       "     \"</ul>\\n\"+\n",
       "     \"<code>\\n\"+\n",
       "     \"from bokeh.resources import INLINE\\n\"+\n",
       "     \"output_notebook(resources=INLINE)\\n\"+\n",
       "     \"</code>\\n\"+\n",
       "     \"</div>\"}};\n",
       "\n",
       "  function display_loaded() {\n",
       "    var el = document.getElementById(\"5f2f30ef-e1bd-4b92-bfeb-8c4f5123b131\");\n",
       "    if (el != null) {\n",
       "      el.textContent = \"BokehJS is loading...\";\n",
       "    }\n",
       "    if (root.Bokeh !== undefined) {\n",
       "      if (el != null) {\n",
       "        el.textContent = \"BokehJS \" + root.Bokeh.version + \" successfully loaded.\";\n",
       "      }\n",
       "    } else if (Date.now() < root._bokeh_timeout) {\n",
       "      setTimeout(display_loaded, 100)\n",
       "    }\n",
       "  }\n",
       "\n",
       "\n",
       "  function run_callbacks() {\n",
       "    try {\n",
       "      root._bokeh_onload_callbacks.forEach(function(callback) { callback() });\n",
       "    }\n",
       "    finally {\n",
       "      delete root._bokeh_onload_callbacks\n",
       "    }\n",
       "    console.info(\"Bokeh: all callbacks have finished\");\n",
       "  }\n",
       "\n",
       "  function load_libs(js_urls, callback) {\n",
       "    root._bokeh_onload_callbacks.push(callback);\n",
       "    if (root._bokeh_is_loading > 0) {\n",
       "      console.log(\"Bokeh: BokehJS is being loaded, scheduling callback at\", now());\n",
       "      return null;\n",
       "    }\n",
       "    if (js_urls == null || js_urls.length === 0) {\n",
       "      run_callbacks();\n",
       "      return null;\n",
       "    }\n",
       "    console.log(\"Bokeh: BokehJS not loaded, scheduling load and callback at\", now());\n",
       "    root._bokeh_is_loading = js_urls.length;\n",
       "    for (var i = 0; i < js_urls.length; i++) {\n",
       "      var url = js_urls[i];\n",
       "      var s = document.createElement('script');\n",
       "      s.src = url;\n",
       "      s.async = false;\n",
       "      s.onreadystatechange = s.onload = function() {\n",
       "        root._bokeh_is_loading--;\n",
       "        if (root._bokeh_is_loading === 0) {\n",
       "          console.log(\"Bokeh: all BokehJS libraries loaded\");\n",
       "          run_callbacks()\n",
       "        }\n",
       "      };\n",
       "      s.onerror = function() {\n",
       "        console.warn(\"failed to load library \" + url);\n",
       "      };\n",
       "      console.log(\"Bokeh: injecting script tag for BokehJS library: \", url);\n",
       "      document.getElementsByTagName(\"head\")[0].appendChild(s);\n",
       "    }\n",
       "  };var element = document.getElementById(\"5f2f30ef-e1bd-4b92-bfeb-8c4f5123b131\");\n",
       "  if (element == null) {\n",
       "    console.log(\"Bokeh: ERROR: autoload.js configured with elementid '5f2f30ef-e1bd-4b92-bfeb-8c4f5123b131' but no matching script tag was found. \")\n",
       "    return false;\n",
       "  }\n",
       "\n",
       "  var js_urls = [\"https://cdn.pydata.org/bokeh/release/bokeh-0.12.16.min.js\", \"https://cdn.pydata.org/bokeh/release/bokeh-widgets-0.12.16.min.js\", \"https://cdn.pydata.org/bokeh/release/bokeh-tables-0.12.16.min.js\", \"https://cdn.pydata.org/bokeh/release/bokeh-gl-0.12.16.min.js\"];\n",
       "\n",
       "  var inline_js = [\n",
       "    function(Bokeh) {\n",
       "      Bokeh.set_log_level(\"info\");\n",
       "    },\n",
       "    \n",
       "    function(Bokeh) {\n",
       "      \n",
       "    },\n",
       "    function(Bokeh) {\n",
       "      console.log(\"Bokeh: injecting CSS: https://cdn.pydata.org/bokeh/release/bokeh-0.12.16.min.css\");\n",
       "      Bokeh.embed.inject_css(\"https://cdn.pydata.org/bokeh/release/bokeh-0.12.16.min.css\");\n",
       "      console.log(\"Bokeh: injecting CSS: https://cdn.pydata.org/bokeh/release/bokeh-widgets-0.12.16.min.css\");\n",
       "      Bokeh.embed.inject_css(\"https://cdn.pydata.org/bokeh/release/bokeh-widgets-0.12.16.min.css\");\n",
       "      console.log(\"Bokeh: injecting CSS: https://cdn.pydata.org/bokeh/release/bokeh-tables-0.12.16.min.css\");\n",
       "      Bokeh.embed.inject_css(\"https://cdn.pydata.org/bokeh/release/bokeh-tables-0.12.16.min.css\");\n",
       "    }\n",
       "  ];\n",
       "\n",
       "  function run_inline_js() {\n",
       "    \n",
       "    if ((root.Bokeh !== undefined) || (force === true)) {\n",
       "      for (var i = 0; i < inline_js.length; i++) {\n",
       "        inline_js[i].call(root, root.Bokeh);\n",
       "      }if (force === true) {\n",
       "        display_loaded();\n",
       "      }} else if (Date.now() < root._bokeh_timeout) {\n",
       "      setTimeout(run_inline_js, 100);\n",
       "    } else if (!root._bokeh_failed_load) {\n",
       "      console.log(\"Bokeh: BokehJS failed to load within specified timeout.\");\n",
       "      root._bokeh_failed_load = true;\n",
       "    } else if (force !== true) {\n",
       "      var cell = $(document.getElementById(\"5f2f30ef-e1bd-4b92-bfeb-8c4f5123b131\")).parents('.cell').data().cell;\n",
       "      cell.output_area.append_execute_result(NB_LOAD_WARNING)\n",
       "    }\n",
       "\n",
       "  }\n",
       "\n",
       "  if (root._bokeh_is_loading === 0) {\n",
       "    console.log(\"Bokeh: BokehJS loaded, going straight to plotting\");\n",
       "    run_inline_js();\n",
       "  } else {\n",
       "    load_libs(js_urls, function() {\n",
       "      console.log(\"Bokeh: BokehJS plotting callback run at\", now());\n",
       "      run_inline_js();\n",
       "    });\n",
       "  }\n",
       "}(window));"
      ],
      "application/vnd.bokehjs_load.v0+json": "\n(function(root) {\n  function now() {\n    return new Date();\n  }\n\n  var force = true;\n\n  if (typeof (root._bokeh_onload_callbacks) === \"undefined\" || force === true) {\n    root._bokeh_onload_callbacks = [];\n    root._bokeh_is_loading = undefined;\n  }\n\n  \n\n  \n  if (typeof (root._bokeh_timeout) === \"undefined\" || force === true) {\n    root._bokeh_timeout = Date.now() + 5000;\n    root._bokeh_failed_load = false;\n  }\n\n  var NB_LOAD_WARNING = {'data': {'text/html':\n     \"<div style='background-color: #fdd'>\\n\"+\n     \"<p>\\n\"+\n     \"BokehJS does not appear to have successfully loaded. If loading BokehJS from CDN, this \\n\"+\n     \"may be due to a slow or bad network connection. Possible fixes:\\n\"+\n     \"</p>\\n\"+\n     \"<ul>\\n\"+\n     \"<li>re-rerun `output_notebook()` to attempt to load from CDN again, or</li>\\n\"+\n     \"<li>use INLINE resources instead, as so:</li>\\n\"+\n     \"</ul>\\n\"+\n     \"<code>\\n\"+\n     \"from bokeh.resources import INLINE\\n\"+\n     \"output_notebook(resources=INLINE)\\n\"+\n     \"</code>\\n\"+\n     \"</div>\"}};\n\n  function display_loaded() {\n    var el = document.getElementById(\"5f2f30ef-e1bd-4b92-bfeb-8c4f5123b131\");\n    if (el != null) {\n      el.textContent = \"BokehJS is loading...\";\n    }\n    if (root.Bokeh !== undefined) {\n      if (el != null) {\n        el.textContent = \"BokehJS \" + root.Bokeh.version + \" successfully loaded.\";\n      }\n    } else if (Date.now() < root._bokeh_timeout) {\n      setTimeout(display_loaded, 100)\n    }\n  }\n\n\n  function run_callbacks() {\n    try {\n      root._bokeh_onload_callbacks.forEach(function(callback) { callback() });\n    }\n    finally {\n      delete root._bokeh_onload_callbacks\n    }\n    console.info(\"Bokeh: all callbacks have finished\");\n  }\n\n  function load_libs(js_urls, callback) {\n    root._bokeh_onload_callbacks.push(callback);\n    if (root._bokeh_is_loading > 0) {\n      console.log(\"Bokeh: BokehJS is being loaded, scheduling callback at\", now());\n      return null;\n    }\n    if (js_urls == null || js_urls.length === 0) {\n      run_callbacks();\n      return null;\n    }\n    console.log(\"Bokeh: BokehJS not loaded, scheduling load and callback at\", now());\n    root._bokeh_is_loading = js_urls.length;\n    for (var i = 0; i < js_urls.length; i++) {\n      var url = js_urls[i];\n      var s = document.createElement('script');\n      s.src = url;\n      s.async = false;\n      s.onreadystatechange = s.onload = function() {\n        root._bokeh_is_loading--;\n        if (root._bokeh_is_loading === 0) {\n          console.log(\"Bokeh: all BokehJS libraries loaded\");\n          run_callbacks()\n        }\n      };\n      s.onerror = function() {\n        console.warn(\"failed to load library \" + url);\n      };\n      console.log(\"Bokeh: injecting script tag for BokehJS library: \", url);\n      document.getElementsByTagName(\"head\")[0].appendChild(s);\n    }\n  };var element = document.getElementById(\"5f2f30ef-e1bd-4b92-bfeb-8c4f5123b131\");\n  if (element == null) {\n    console.log(\"Bokeh: ERROR: autoload.js configured with elementid '5f2f30ef-e1bd-4b92-bfeb-8c4f5123b131' but no matching script tag was found. \")\n    return false;\n  }\n\n  var js_urls = [\"https://cdn.pydata.org/bokeh/release/bokeh-0.12.16.min.js\", \"https://cdn.pydata.org/bokeh/release/bokeh-widgets-0.12.16.min.js\", \"https://cdn.pydata.org/bokeh/release/bokeh-tables-0.12.16.min.js\", \"https://cdn.pydata.org/bokeh/release/bokeh-gl-0.12.16.min.js\"];\n\n  var inline_js = [\n    function(Bokeh) {\n      Bokeh.set_log_level(\"info\");\n    },\n    \n    function(Bokeh) {\n      \n    },\n    function(Bokeh) {\n      console.log(\"Bokeh: injecting CSS: https://cdn.pydata.org/bokeh/release/bokeh-0.12.16.min.css\");\n      Bokeh.embed.inject_css(\"https://cdn.pydata.org/bokeh/release/bokeh-0.12.16.min.css\");\n      console.log(\"Bokeh: injecting CSS: https://cdn.pydata.org/bokeh/release/bokeh-widgets-0.12.16.min.css\");\n      Bokeh.embed.inject_css(\"https://cdn.pydata.org/bokeh/release/bokeh-widgets-0.12.16.min.css\");\n      console.log(\"Bokeh: injecting CSS: https://cdn.pydata.org/bokeh/release/bokeh-tables-0.12.16.min.css\");\n      Bokeh.embed.inject_css(\"https://cdn.pydata.org/bokeh/release/bokeh-tables-0.12.16.min.css\");\n    }\n  ];\n\n  function run_inline_js() {\n    \n    if ((root.Bokeh !== undefined) || (force === true)) {\n      for (var i = 0; i < inline_js.length; i++) {\n        inline_js[i].call(root, root.Bokeh);\n      }if (force === true) {\n        display_loaded();\n      }} else if (Date.now() < root._bokeh_timeout) {\n      setTimeout(run_inline_js, 100);\n    } else if (!root._bokeh_failed_load) {\n      console.log(\"Bokeh: BokehJS failed to load within specified timeout.\");\n      root._bokeh_failed_load = true;\n    } else if (force !== true) {\n      var cell = $(document.getElementById(\"5f2f30ef-e1bd-4b92-bfeb-8c4f5123b131\")).parents('.cell').data().cell;\n      cell.output_area.append_execute_result(NB_LOAD_WARNING)\n    }\n\n  }\n\n  if (root._bokeh_is_loading === 0) {\n    console.log(\"Bokeh: BokehJS loaded, going straight to plotting\");\n    run_inline_js();\n  } else {\n    load_libs(js_urls, function() {\n      console.log(\"Bokeh: BokehJS plotting callback run at\", now());\n      run_inline_js();\n    });\n  }\n}(window));"
     },
     "metadata": {},
     "output_type": "display_data"
    }
   ],
   "source": [
    "from ipywidgets import interact\n",
    "import numpy as np\n",
    "from bokeh.io import push_notebook, show, output_notebook\n",
    "from bokeh.plotting import figure\n",
    "output_notebook()"
   ]
  },
  {
   "cell_type": "code",
   "execution_count": 15,
   "metadata": {},
   "outputs": [
    {
     "name": "stdout",
     "output_type": "stream",
     "text": [
      "[0. 0. 0. ... 6. 6. 6.]\n",
      "[ 0.         0.         0.        ... -0.2794155 -0.2794155 -0.2794155]\n"
     ]
    }
   ],
   "source": [
    "#the equation of friction for a block of mass m in on an inclined plane of angle tetha\n",
    "#Interactors displays the variations if friction depends on sin, cos, tan, angel value\n",
    "\n",
    "#inclined plane of angle tetha\n",
    "\n",
    "#mass of the block 1 kg\n",
    "#gravity 10 m/s^2 for Earth\n",
    "#x =np.linspace(0,np.pi,2000)\n",
    "#mu=0.5 friction coefficient\n",
    "x=np.linspace(0,2*np.pi,2000)\n",
    "x =np.rint(x)\n",
    "y =np.sin(x)\n",
    "\n",
    "p=figure(title = 'friction display depending on angle, friction coefficient, mass',plot_height=300, plot_width=600, y_range=(-35,35))  \n",
    "r=p.line(x,y,color='#2222aa', line_width=3)\n",
    "print(x)\n",
    "print(y)\n"
   ]
  },
  {
   "cell_type": "code",
   "execution_count": 17,
   "metadata": {},
   "outputs": [],
   "source": [
    "def update(f, mu=1,  m=1, phi=0  ):\n",
    "    if   f==\"sin\": func = np.sin\n",
    "    elif f==\"cos\": func = np.cos\n",
    "    elif f==\"tan\": func = np.tan\n",
    "    r.data_source.data['y'] = mu*m*10*func(np.sin(x+phi))\n",
    "    push_notebook()"
   ]
  },
  {
   "cell_type": "code",
   "execution_count": 18,
   "metadata": {},
   "outputs": [
    {
     "data": {
      "text/html": [
       "\n",
       "<div class=\"bk-root\">\n",
       "    <div class=\"bk-plotdiv\" id=\"4e447cc7-ad9a-4c2c-9ca6-063271eab931\"></div>\n",
       "</div>"
      ]
     },
     "metadata": {},
     "output_type": "display_data"
    },
    {
     "data": {
      "application/javascript": [
       "(function(root) {\n",
       "  function embed_document(root) {\n",
       "    \n",
       "  var docs_json = {\"b2cd545c-01a2-45e5-bfa7-4ca1869f3d32\":{\"roots\":{\"references\":[{\"attributes\":{\"below\":[{\"id\":\"16c4192e-87b3-4ab9-b6be-84e3ae164475\",\"type\":\"LinearAxis\"}],\"left\":[{\"id\":\"a01c1546-ac7e-43b1-b2a4-9f3233f64e24\",\"type\":\"LinearAxis\"}],\"plot_height\":300,\"renderers\":[{\"id\":\"16c4192e-87b3-4ab9-b6be-84e3ae164475\",\"type\":\"LinearAxis\"},{\"id\":\"b06e7225-d77e-4c10-9c35-544ddd67152e\",\"type\":\"Grid\"},{\"id\":\"a01c1546-ac7e-43b1-b2a4-9f3233f64e24\",\"type\":\"LinearAxis\"},{\"id\":\"c1d01fd5-88e5-4987-b7f9-36fe3ad41329\",\"type\":\"Grid\"},{\"id\":\"9e39dff0-cf41-462f-8cab-bcf5243f6650\",\"type\":\"BoxAnnotation\"},{\"id\":\"9c051cec-52c3-49fd-ab74-940dcf005ef5\",\"type\":\"GlyphRenderer\"}],\"title\":{\"id\":\"5df0ef24-1907-42ef-9c7e-944fdb7dce95\",\"type\":\"Title\"},\"toolbar\":{\"id\":\"12a00fec-bc05-4f9a-8678-71cfea2b4de3\",\"type\":\"Toolbar\"},\"x_range\":{\"id\":\"bd4f4e9b-7bb9-4e7c-9886-94fe0e4fde15\",\"type\":\"DataRange1d\"},\"x_scale\":{\"id\":\"b92995ef-f63f-440f-869d-69e0dc359888\",\"type\":\"LinearScale\"},\"y_range\":{\"id\":\"fcd33429-a1e2-44fc-b987-4f0003f2f165\",\"type\":\"Range1d\"},\"y_scale\":{\"id\":\"157733f8-77e2-41f5-8130-e350b03533ba\",\"type\":\"LinearScale\"}},\"id\":\"5e1a7222-4d5b-4216-bd7f-a543868bc450\",\"subtype\":\"Figure\",\"type\":\"Plot\"},{\"attributes\":{},\"id\":\"b95defa3-bba6-45d0-be27-8665204d12a7\",\"type\":\"BasicTickFormatter\"},{\"attributes\":{\"bottom_units\":\"screen\",\"fill_alpha\":{\"value\":0.5},\"fill_color\":{\"value\":\"lightgrey\"},\"left_units\":\"screen\",\"level\":\"overlay\",\"line_alpha\":{\"value\":1.0},\"line_color\":{\"value\":\"black\"},\"line_dash\":[4,4],\"line_width\":{\"value\":2},\"plot\":null,\"render_mode\":\"css\",\"right_units\":\"screen\",\"top_units\":\"screen\"},\"id\":\"9e39dff0-cf41-462f-8cab-bcf5243f6650\",\"type\":\"BoxAnnotation\"},{\"attributes\":{\"data_source\":{\"id\":\"9ded6b3b-4d42-4c23-b585-399b1847bd5f\",\"type\":\"ColumnDataSource\"},\"glyph\":{\"id\":\"53bd3b01-8960-44f0-9dad-0f74380b003b\",\"type\":\"Line\"},\"hover_glyph\":null,\"muted_glyph\":null,\"nonselection_glyph\":{\"id\":\"a5bba800-b06f-4cbf-8d40-f717311b94d7\",\"type\":\"Line\"},\"selection_glyph\":null,\"view\":{\"id\":\"6d246f84-a561-42f8-87af-0ed00ba148cb\",\"type\":\"CDSView\"}},\"id\":\"9c051cec-52c3-49fd-ab74-940dcf005ef5\",\"type\":\"GlyphRenderer\"},{\"attributes\":{},\"id\":\"8c7858c4-12c9-45de-812b-ce3c91f75a15\",\"type\":\"PanTool\"},{\"attributes\":{\"plot\":null,\"text\":\"friction display depending on angle, friction coefficient, mass\"},\"id\":\"5df0ef24-1907-42ef-9c7e-944fdb7dce95\",\"type\":\"Title\"},{\"attributes\":{\"callback\":null},\"id\":\"bd4f4e9b-7bb9-4e7c-9886-94fe0e4fde15\",\"type\":\"DataRange1d\"},{\"attributes\":{},\"id\":\"00cc492b-0d47-4a08-b3ac-0817be6b329a\",\"type\":\"UnionRenderers\"},{\"attributes\":{},\"id\":\"af5f1c56-e4af-4864-961b-ba960d515273\",\"type\":\"WheelZoomTool\"},{\"attributes\":{\"active_drag\":\"auto\",\"active_inspect\":\"auto\",\"active_scroll\":\"auto\",\"active_tap\":\"auto\",\"tools\":[{\"id\":\"8c7858c4-12c9-45de-812b-ce3c91f75a15\",\"type\":\"PanTool\"},{\"id\":\"af5f1c56-e4af-4864-961b-ba960d515273\",\"type\":\"WheelZoomTool\"},{\"id\":\"8caeb680-db9a-4ba5-a36c-9f6d0c74b2c3\",\"type\":\"BoxZoomTool\"},{\"id\":\"637c5ee4-b7b3-47d1-9bff-56eb3fe7fcfd\",\"type\":\"SaveTool\"},{\"id\":\"a12ff3f7-5497-493d-a0a0-e9dc00b67319\",\"type\":\"ResetTool\"},{\"id\":\"d6b2cbd9-69b2-4d65-9ec9-880beb6dca73\",\"type\":\"HelpTool\"}]},\"id\":\"12a00fec-bc05-4f9a-8678-71cfea2b4de3\",\"type\":\"Toolbar\"},{\"attributes\":{\"overlay\":{\"id\":\"9e39dff0-cf41-462f-8cab-bcf5243f6650\",\"type\":\"BoxAnnotation\"}},\"id\":\"8caeb680-db9a-4ba5-a36c-9f6d0c74b2c3\",\"type\":\"BoxZoomTool\"},{\"attributes\":{},\"id\":\"637c5ee4-b7b3-47d1-9bff-56eb3fe7fcfd\",\"type\":\"SaveTool\"},{\"attributes\":{},\"id\":\"b92995ef-f63f-440f-869d-69e0dc359888\",\"type\":\"LinearScale\"},{\"attributes\":{},\"id\":\"a12ff3f7-5497-493d-a0a0-e9dc00b67319\",\"type\":\"ResetTool\"},{\"attributes\":{\"callback\":null,\"end\":35,\"start\":-35},\"id\":\"fcd33429-a1e2-44fc-b987-4f0003f2f165\",\"type\":\"Range1d\"},{\"attributes\":{},\"id\":\"d6b2cbd9-69b2-4d65-9ec9-880beb6dca73\",\"type\":\"HelpTool\"},{\"attributes\":{},\"id\":\"157733f8-77e2-41f5-8130-e350b03533ba\",\"type\":\"LinearScale\"},{\"attributes\":{\"plot\":{\"id\":\"5e1a7222-4d5b-4216-bd7f-a543868bc450\",\"subtype\":\"Figure\",\"type\":\"Plot\"},\"ticker\":{\"id\":\"21032b45-d656-492d-9647-dbc40d3ba4f6\",\"type\":\"BasicTicker\"}},\"id\":\"b06e7225-d77e-4c10-9c35-544ddd67152e\",\"type\":\"Grid\"},{\"attributes\":{\"formatter\":{\"id\":\"b95defa3-bba6-45d0-be27-8665204d12a7\",\"type\":\"BasicTickFormatter\"},\"plot\":{\"id\":\"5e1a7222-4d5b-4216-bd7f-a543868bc450\",\"subtype\":\"Figure\",\"type\":\"Plot\"},\"ticker\":{\"id\":\"21032b45-d656-492d-9647-dbc40d3ba4f6\",\"type\":\"BasicTicker\"}},\"id\":\"16c4192e-87b3-4ab9-b6be-84e3ae164475\",\"type\":\"LinearAxis\"},{\"attributes\":{},\"id\":\"21032b45-d656-492d-9647-dbc40d3ba4f6\",\"type\":\"BasicTicker\"},{\"attributes\":{\"formatter\":{\"id\":\"c07f39c6-6f9c-42fb-8763-835276e44e5c\",\"type\":\"BasicTickFormatter\"},\"plot\":{\"id\":\"5e1a7222-4d5b-4216-bd7f-a543868bc450\",\"subtype\":\"Figure\",\"type\":\"Plot\"},\"ticker\":{\"id\":\"67fe3cbb-850b-4134-ac66-719d11fd0117\",\"type\":\"BasicTicker\"}},\"id\":\"a01c1546-ac7e-43b1-b2a4-9f3233f64e24\",\"type\":\"LinearAxis\"},{\"attributes\":{},\"id\":\"67fe3cbb-850b-4134-ac66-719d11fd0117\",\"type\":\"BasicTicker\"},{\"attributes\":{\"source\":{\"id\":\"9ded6b3b-4d42-4c23-b585-399b1847bd5f\",\"type\":\"ColumnDataSource\"}},\"id\":\"6d246f84-a561-42f8-87af-0ed00ba148cb\",\"type\":\"CDSView\"},{\"attributes\":{\"dimension\":1,\"plot\":{\"id\":\"5e1a7222-4d5b-4216-bd7f-a543868bc450\",\"subtype\":\"Figure\",\"type\":\"Plot\"},\"ticker\":{\"id\":\"67fe3cbb-850b-4134-ac66-719d11fd0117\",\"type\":\"BasicTicker\"}},\"id\":\"c1d01fd5-88e5-4987-b7f9-36fe3ad41329\",\"type\":\"Grid\"},{\"attributes\":{\"line_alpha\":0.1,\"line_color\":\"#1f77b4\",\"line_width\":3,\"x\":{\"field\":\"x\"},\"y\":{\"field\":\"y\"}},\"id\":\"a5bba800-b06f-4cbf-8d40-f717311b94d7\",\"type\":\"Line\"},{\"attributes\":{\"callback\":null,\"data\":{\"x\":{\"__ndarray__\":\"AAAAAAAAAAAAAAAAAAAAAAAAAAAAAAAAAAAAAAAAAAAAAAAAAAAAAAAAAAAAAAAAAAAAAAAAAAAAAAAAAAAAAAAAAAAAAAAAAAAAAAAAAAAAAAAAAAAAAAAAAAAAAAAAAAAAAAAAAAAAAAAAAAAAAAAAAAAAAAAAAAAAAAAAAAAAAAAAAAAAAAAAAAAAAAAAAAAAAAAAAAAAAAAAAAAAAAAAAAAAAAAAAAAAAAAAAAAAAAAAAAAAAAAAAAAAAAAAAAAAAAAAAAAAAAAAAAAAAAAAAAAAAAAAAAAAAAAAAAAAAAAAAAAAAAAAAAAAAAAAAAAAAAAAAAAAAAAAAAAAAAAAAAAAAAAAAAAAAAAAAAAAAAAAAAAAAAAAAAAAAAAAAAAAAAAAAAAAAAAAAAAAAAAAAAAAAAAAAAAAAAAAAAAAAAAAAAAAAAAAAAAAAAAAAAAAAAAAAAAAAAAAAAAAAAAAAAAAAAAAAAAAAAAAAAAAAAAAAAAAAAAAAAAAAAAAAAAAAAAAAAAAAAAAAAAAAAAAAAAAAAAAAAAAAAAAAAAAAAAAAAAAAAAAAAAAAAAAAAAAAAAAAAAAAAAAAAAAAAAAAAAAAAAAAAAAAAAAAAAAAAAAAAAAAAAAAAAAAAAAAAAAAAAAAAAAAAAAAAAAAAAAAAAAAAAAAAAAAAAAAAAAAAAAAAAAAAAAAAAAAAAAAAAAAAAAAAAAAAAAAAAAAAAAAAAAAAAAAAAAAAAAAAAAAAAAAAAAAAAAAAAAAAAAAAAAAAAAAAAAAAAAAAAAAAAAAAAAAAAAAAAAAAAAAAAAAAAAAAAAAAAAAAAAAAAAAAAAAAAAAAAAAAAAAAAAAAAAAAAAAAAAAAAAAAAAAAAAAAAAAAAAAAAAAAAAAAAAAAAAAAAAAAAAAAAAAAAAAAAAAAAAAAAAAAAAAAAAAAAAAAAAAAAAAAAAAAAAAAAAAAAAAAAAAAAAAAAAAAAAAAAAAAAAAAAAAAAAAAAAAAAAAAAAAAAAAAAAAAAAAAAAAAAAAAAAAAAAAAAAAAAAAAAAAAAAAAAAAAAAAAAAAAAAAAAAAAAAAAAAAAAAAAAAAAAAAAAAAAAAAAAAAAAAAAAAAAAAAAAAAAAAAAAAAAAAAAAAAAAAAAAAAAAAAAAAAAAAAAAAAAAAAAAAAAAAAAAAAAAAAAAAAAAAAAAAAAAAAAAAAAAAAAAAAAAAAAAAAAAAAAAAAAAAAAAAAAAAAAAAAAAAAAAAAAAAAAAAAAAAAAAAAAAAAAAAAAAAAAAAAAAAAAAAAAAAAAAAAAAAAAAAAAAAAAAAAAAAAAAAAAAAAAAAAAAAAAAAAAAAAAAAAAAAAAAAAAAAAAAAAAAAAAAAAAAAAAAAAAAAAAAAAAAAAAAAAAAAAAAAAAAAAAAAAAAAAAAAAAAAAAAAAAAAAAAAAAAAAAAAAAAAAAAAAAAAAAAAAAAAAAAAAAAAAAAAAAAAAAAAAAAAAAAAAAAAAAAAAAAAAAAAAAAAAAAAAAAAAAAAAAAAAAAAAAAAAAAAAAAAAAAAAAAAAAAAAAAAAAAAAAAAAAAAAAAAAAAAAAAAAAAAAAAAAAAAAAAAAAAAAAAAAAAAAAAAAAAAAAAAAAAAAAAAAAAAAAAAAAAAAAAAAAAAAAAAAAAAAAAAAAAAAAAAAAAAAAAAAAAAAAAAAAAAAAAAAAAAAAAAAAAAAAAAAAAAAADwPwAAAAAAAPA/AAAAAAAA8D8AAAAAAADwPwAAAAAAAPA/AAAAAAAA8D8AAAAAAADwPwAAAAAAAPA/AAAAAAAA8D8AAAAAAADwPwAAAAAAAPA/AAAAAAAA8D8AAAAAAADwPwAAAAAAAPA/AAAAAAAA8D8AAAAAAADwPwAAAAAAAPA/AAAAAAAA8D8AAAAAAADwPwAAAAAAAPA/AAAAAAAA8D8AAAAAAADwPwAAAAAAAPA/AAAAAAAA8D8AAAAAAADwPwAAAAAAAPA/AAAAAAAA8D8AAAAAAADwPwAAAAAAAPA/AAAAAAAA8D8AAAAAAADwPwAAAAAAAPA/AAAAAAAA8D8AAAAAAADwPwAAAAAAAPA/AAAAAAAA8D8AAAAAAADwPwAAAAAAAPA/AAAAAAAA8D8AAAAAAADwPwAAAAAAAPA/AAAAAAAA8D8AAAAAAADwPwAAAAAAAPA/AAAAAAAA8D8AAAAAAADwPwAAAAAAAPA/AAAAAAAA8D8AAAAAAADwPwAAAAAAAPA/AAAAAAAA8D8AAAAAAADwPwAAAAAAAPA/AAAAAAAA8D8AAAAAAADwPwAAAAAAAPA/AAAAAAAA8D8AAAAAAADwPwAAAAAAAPA/AAAAAAAA8D8AAAAAAADwPwAAAAAAAPA/AAAAAAAA8D8AAAAAAADwPwAAAAAAAPA/AAAAAAAA8D8AAAAAAADwPwAAAAAAAPA/AAAAAAAA8D8AAAAAAADwPwAAAAAAAPA/AAAAAAAA8D8AAAAAAADwPwAAAAAAAPA/AAAAAAAA8D8AAAAAAADwPwAAAAAAAPA/AAAAAAAA8D8AAAAAAADwPwAAAAAAAPA/AAAAAAAA8D8AAAAAAADwPwAAAAAAAPA/AAAAAAAA8D8AAAAAAADwPwAAAAAAAPA/AAAAAAAA8D8AAAAAAADwPwAAAAAAAPA/AAAAAAAA8D8AAAAAAADwPwAAAAAAAPA/AAAAAAAA8D8AAAAAAADwPwAAAAAAAPA/AAAAAAAA8D8AAAAAAADwPwAAAAAAAPA/AAAAAAAA8D8AAAAAAADwPwAAAAAAAPA/AAAAAAAA8D8AAAAAAADwPwAAAAAAAPA/AAAAAAAA8D8AAAAAAADwPwAAAAAAAPA/AAAAAAAA8D8AAAAAAADwPwAAAAAAAPA/AAAAAAAA8D8AAAAAAADwPwAAAAAAAPA/AAAAAAAA8D8AAAAAAADwPwAAAAAAAPA/AAAAAAAA8D8AAAAAAADwPwAAAAAAAPA/AAAAAAAA8D8AAAAAAADwPwAAAAAAAPA/AAAAAAAA8D8AAAAAAADwPwAAAAAAAPA/AAAAAAAA8D8AAAAAAADwPwAAAAAAAPA/AAAAAAAA8D8AAAAAAADwPwAAAAAAAPA/AAAAAAAA8D8AAAAAAADwPwAAAAAAAPA/AAAAAAAA8D8AAAAAAADwPwAAAAAAAPA/AAAAAAAA8D8AAAAAAADwPwAAAAAAAPA/AAAAAAAA8D8AAAAAAADwPwAAAAAAAPA/AAAAAAAA8D8AAAAAAADwPwAAAAAAAPA/AAAAAAAA8D8AAAAAAADwPwAAAAAAAPA/AAAAAAAA8D8AAAAAAADwPwAAAAAAAPA/AAAAAAAA8D8AAAAAAADwPwAAAAAAAPA/AAAAAAAA8D8AAAAAAADwPwAAAAAAAPA/AAAAAAAA8D8AAAAAAADwPwAAAAAAAPA/AAAAAAAA8D8AAAAAAADwPwAAAAAAAPA/AAAAAAAA8D8AAAAAAADwPwAAAAAAAPA/AAAAAAAA8D8AAAAAAADwPwAAAAAAAPA/AAAAAAAA8D8AAAAAAADwPwAAAAAAAPA/AAAAAAAA8D8AAAAAAADwPwAAAAAAAPA/AAAAAAAA8D8AAAAAAADwPwAAAAAAAPA/AAAAAAAA8D8AAAAAAADwPwAAAAAAAPA/AAAAAAAA8D8AAAAAAADwPwAAAAAAAPA/AAAAAAAA8D8AAAAAAADwPwAAAAAAAPA/AAAAAAAA8D8AAAAAAADwPwAAAAAAAPA/AAAAAAAA8D8AAAAAAADwPwAAAAAAAPA/AAAAAAAA8D8AAAAAAADwPwAAAAAAAPA/AAAAAAAA8D8AAAAAAADwPwAAAAAAAPA/AAAAAAAA8D8AAAAAAADwPwAAAAAAAPA/AAAAAAAA8D8AAAAAAADwPwAAAAAAAPA/AAAAAAAA8D8AAAAAAADwPwAAAAAAAPA/AAAAAAAA8D8AAAAAAADwPwAAAAAAAPA/AAAAAAAA8D8AAAAAAADwPwAAAAAAAPA/AAAAAAAA8D8AAAAAAADwPwAAAAAAAPA/AAAAAAAA8D8AAAAAAADwPwAAAAAAAPA/AAAAAAAA8D8AAAAAAADwPwAAAAAAAPA/AAAAAAAA8D8AAAAAAADwPwAAAAAAAPA/AAAAAAAA8D8AAAAAAADwPwAAAAAAAPA/AAAAAAAA8D8AAAAAAADwPwAAAAAAAPA/AAAAAAAA8D8AAAAAAADwPwAAAAAAAPA/AAAAAAAA8D8AAAAAAADwPwAAAAAAAPA/AAAAAAAA8D8AAAAAAADwPwAAAAAAAPA/AAAAAAAA8D8AAAAAAADwPwAAAAAAAPA/AAAAAAAA8D8AAAAAAADwPwAAAAAAAPA/AAAAAAAA8D8AAAAAAADwPwAAAAAAAPA/AAAAAAAA8D8AAAAAAADwPwAAAAAAAPA/AAAAAAAA8D8AAAAAAADwPwAAAAAAAPA/AAAAAAAA8D8AAAAAAADwPwAAAAAAAPA/AAAAAAAA8D8AAAAAAADwPwAAAAAAAPA/AAAAAAAA8D8AAAAAAADwPwAAAAAAAPA/AAAAAAAA8D8AAAAAAADwPwAAAAAAAPA/AAAAAAAA8D8AAAAAAADwPwAAAAAAAPA/AAAAAAAA8D8AAAAAAADwPwAAAAAAAPA/AAAAAAAA8D8AAAAAAADwPwAAAAAAAPA/AAAAAAAA8D8AAAAAAADwPwAAAAAAAPA/AAAAAAAA8D8AAAAAAADwPwAAAAAAAPA/AAAAAAAA8D8AAAAAAADwPwAAAAAAAPA/AAAAAAAA8D8AAAAAAADwPwAAAAAAAPA/AAAAAAAA8D8AAAAAAADwPwAAAAAAAPA/AAAAAAAA8D8AAAAAAADwPwAAAAAAAPA/AAAAAAAA8D8AAAAAAADwPwAAAAAAAPA/AAAAAAAA8D8AAAAAAADwPwAAAAAAAPA/AAAAAAAA8D8AAAAAAADwPwAAAAAAAPA/AAAAAAAA8D8AAAAAAADwPwAAAAAAAPA/AAAAAAAA8D8AAAAAAADwPwAAAAAAAPA/AAAAAAAA8D8AAAAAAADwPwAAAAAAAPA/AAAAAAAA8D8AAAAAAADwPwAAAAAAAPA/AAAAAAAA8D8AAAAAAAAAQAAAAAAAAABAAAAAAAAAAEAAAAAAAAAAQAAAAAAAAABAAAAAAAAAAEAAAAAAAAAAQAAAAAAAAABAAAAAAAAAAEAAAAAAAAAAQAAAAAAAAABAAAAAAAAAAEAAAAAAAAAAQAAAAAAAAABAAAAAAAAAAEAAAAAAAAAAQAAAAAAAAABAAAAAAAAAAEAAAAAAAAAAQAAAAAAAAABAAAAAAAAAAEAAAAAAAAAAQAAAAAAAAABAAAAAAAAAAEAAAAAAAAAAQAAAAAAAAABAAAAAAAAAAEAAAAAAAAAAQAAAAAAAAABAAAAAAAAAAEAAAAAAAAAAQAAAAAAAAABAAAAAAAAAAEAAAAAAAAAAQAAAAAAAAABAAAAAAAAAAEAAAAAAAAAAQAAAAAAAAABAAAAAAAAAAEAAAAAAAAAAQAAAAAAAAABAAAAAAAAAAEAAAAAAAAAAQAAAAAAAAABAAAAAAAAAAEAAAAAAAAAAQAAAAAAAAABAAAAAAAAAAEAAAAAAAAAAQAAAAAAAAABAAAAAAAAAAEAAAAAAAAAAQAAAAAAAAABAAAAAAAAAAEAAAAAAAAAAQAAAAAAAAABAAAAAAAAAAEAAAAAAAAAAQAAAAAAAAABAAAAAAAAAAEAAAAAAAAAAQAAAAAAAAABAAAAAAAAAAEAAAAAAAAAAQAAAAAAAAABAAAAAAAAAAEAAAAAAAAAAQAAAAAAAAABAAAAAAAAAAEAAAAAAAAAAQAAAAAAAAABAAAAAAAAAAEAAAAAAAAAAQAAAAAAAAABAAAAAAAAAAEAAAAAAAAAAQAAAAAAAAABAAAAAAAAAAEAAAAAAAAAAQAAAAAAAAABAAAAAAAAAAEAAAAAAAAAAQAAAAAAAAABAAAAAAAAAAEAAAAAAAAAAQAAAAAAAAABAAAAAAAAAAEAAAAAAAAAAQAAAAAAAAABAAAAAAAAAAEAAAAAAAAAAQAAAAAAAAABAAAAAAAAAAEAAAAAAAAAAQAAAAAAAAABAAAAAAAAAAEAAAAAAAAAAQAAAAAAAAABAAAAAAAAAAEAAAAAAAAAAQAAAAAAAAABAAAAAAAAAAEAAAAAAAAAAQAAAAAAAAABAAAAAAAAAAEAAAAAAAAAAQAAAAAAAAABAAAAAAAAAAEAAAAAAAAAAQAAAAAAAAABAAAAAAAAAAEAAAAAAAAAAQAAAAAAAAABAAAAAAAAAAEAAAAAAAAAAQAAAAAAAAABAAAAAAAAAAEAAAAAAAAAAQAAAAAAAAABAAAAAAAAAAEAAAAAAAAAAQAAAAAAAAABAAAAAAAAAAEAAAAAAAAAAQAAAAAAAAABAAAAAAAAAAEAAAAAAAAAAQAAAAAAAAABAAAAAAAAAAEAAAAAAAAAAQAAAAAAAAABAAAAAAAAAAEAAAAAAAAAAQAAAAAAAAABAAAAAAAAAAEAAAAAAAAAAQAAAAAAAAABAAAAAAAAAAEAAAAAAAAAAQAAAAAAAAABAAAAAAAAAAEAAAAAAAAAAQAAAAAAAAABAAAAAAAAAAEAAAAAAAAAAQAAAAAAAAABAAAAAAAAAAEAAAAAAAAAAQAAAAAAAAABAAAAAAAAAAEAAAAAAAAAAQAAAAAAAAABAAAAAAAAAAEAAAAAAAAAAQAAAAAAAAABAAAAAAAAAAEAAAAAAAAAAQAAAAAAAAABAAAAAAAAAAEAAAAAAAAAAQAAAAAAAAABAAAAAAAAAAEAAAAAAAAAAQAAAAAAAAABAAAAAAAAAAEAAAAAAAAAAQAAAAAAAAABAAAAAAAAAAEAAAAAAAAAAQAAAAAAAAABAAAAAAAAAAEAAAAAAAAAAQAAAAAAAAABAAAAAAAAAAEAAAAAAAAAAQAAAAAAAAABAAAAAAAAAAEAAAAAAAAAAQAAAAAAAAABAAAAAAAAAAEAAAAAAAAAAQAAAAAAAAABAAAAAAAAAAEAAAAAAAAAAQAAAAAAAAABAAAAAAAAAAEAAAAAAAAAAQAAAAAAAAABAAAAAAAAAAEAAAAAAAAAAQAAAAAAAAABAAAAAAAAAAEAAAAAAAAAAQAAAAAAAAABAAAAAAAAAAEAAAAAAAAAAQAAAAAAAAABAAAAAAAAAAEAAAAAAAAAAQAAAAAAAAABAAAAAAAAAAEAAAAAAAAAAQAAAAAAAAABAAAAAAAAAAEAAAAAAAAAAQAAAAAAAAABAAAAAAAAAAEAAAAAAAAAAQAAAAAAAAABAAAAAAAAAAEAAAAAAAAAAQAAAAAAAAABAAAAAAAAAAEAAAAAAAAAAQAAAAAAAAABAAAAAAAAAAEAAAAAAAAAAQAAAAAAAAABAAAAAAAAAAEAAAAAAAAAAQAAAAAAAAABAAAAAAAAAAEAAAAAAAAAAQAAAAAAAAABAAAAAAAAAAEAAAAAAAAAAQAAAAAAAAABAAAAAAAAAAEAAAAAAAAAAQAAAAAAAAABAAAAAAAAAAEAAAAAAAAAAQAAAAAAAAABAAAAAAAAAAEAAAAAAAAAAQAAAAAAAAABAAAAAAAAAAEAAAAAAAAAAQAAAAAAAAABAAAAAAAAAAEAAAAAAAAAAQAAAAAAAAABAAAAAAAAAAEAAAAAAAAAAQAAAAAAAAABAAAAAAAAAAEAAAAAAAAAAQAAAAAAAAABAAAAAAAAAAEAAAAAAAAAAQAAAAAAAAABAAAAAAAAAAEAAAAAAAAAAQAAAAAAAAABAAAAAAAAAAEAAAAAAAAAAQAAAAAAAAABAAAAAAAAAAEAAAAAAAAAAQAAAAAAAAABAAAAAAAAAAEAAAAAAAAAAQAAAAAAAAABAAAAAAAAAAEAAAAAAAAAAQAAAAAAAAABAAAAAAAAAAEAAAAAAAAAAQAAAAAAAAABAAAAAAAAAAEAAAAAAAAAAQAAAAAAAAABAAAAAAAAAAEAAAAAAAAAAQAAAAAAAAABAAAAAAAAAAEAAAAAAAAAAQAAAAAAAAABAAAAAAAAAAEAAAAAAAAAAQAAAAAAAAABAAAAAAAAAAEAAAAAAAAAAQAAAAAAAAABAAAAAAAAAAEAAAAAAAAAAQAAAAAAAAABAAAAAAAAAAEAAAAAAAAAAQAAAAAAAAABAAAAAAAAAAEAAAAAAAAAAQAAAAAAAAABAAAAAAAAAAEAAAAAAAAAAQAAAAAAAAABAAAAAAAAAAEAAAAAAAAAAQAAAAAAAAABAAAAAAAAAAEAAAAAAAAAAQAAAAAAAAABAAAAAAAAAAEAAAAAAAAAAQAAAAAAAAABAAAAAAAAAAEAAAAAAAAAAQAAAAAAAAABAAAAAAAAAAEAAAAAAAAAAQAAAAAAAAABAAAAAAAAAAEAAAAAAAAAAQAAAAAAAAABAAAAAAAAAAEAAAAAAAAAAQAAAAAAAAABAAAAAAAAAAEAAAAAAAAAIQAAAAAAAAAhAAAAAAAAACEAAAAAAAAAIQAAAAAAAAAhAAAAAAAAACEAAAAAAAAAIQAAAAAAAAAhAAAAAAAAACEAAAAAAAAAIQAAAAAAAAAhAAAAAAAAACEAAAAAAAAAIQAAAAAAAAAhAAAAAAAAACEAAAAAAAAAIQAAAAAAAAAhAAAAAAAAACEAAAAAAAAAIQAAAAAAAAAhAAAAAAAAACEAAAAAAAAAIQAAAAAAAAAhAAAAAAAAACEAAAAAAAAAIQAAAAAAAAAhAAAAAAAAACEAAAAAAAAAIQAAAAAAAAAhAAAAAAAAACEAAAAAAAAAIQAAAAAAAAAhAAAAAAAAACEAAAAAAAAAIQAAAAAAAAAhAAAAAAAAACEAAAAAAAAAIQAAAAAAAAAhAAAAAAAAACEAAAAAAAAAIQAAAAAAAAAhAAAAAAAAACEAAAAAAAAAIQAAAAAAAAAhAAAAAAAAACEAAAAAAAAAIQAAAAAAAAAhAAAAAAAAACEAAAAAAAAAIQAAAAAAAAAhAAAAAAAAACEAAAAAAAAAIQAAAAAAAAAhAAAAAAAAACEAAAAAAAAAIQAAAAAAAAAhAAAAAAAAACEAAAAAAAAAIQAAAAAAAAAhAAAAAAAAACEAAAAAAAAAIQAAAAAAAAAhAAAAAAAAACEAAAAAAAAAIQAAAAAAAAAhAAAAAAAAACEAAAAAAAAAIQAAAAAAAAAhAAAAAAAAACEAAAAAAAAAIQAAAAAAAAAhAAAAAAAAACEAAAAAAAAAIQAAAAAAAAAhAAAAAAAAACEAAAAAAAAAIQAAAAAAAAAhAAAAAAAAACEAAAAAAAAAIQAAAAAAAAAhAAAAAAAAACEAAAAAAAAAIQAAAAAAAAAhAAAAAAAAACEAAAAAAAAAIQAAAAAAAAAhAAAAAAAAACEAAAAAAAAAIQAAAAAAAAAhAAAAAAAAACEAAAAAAAAAIQAAAAAAAAAhAAAAAAAAACEAAAAAAAAAIQAAAAAAAAAhAAAAAAAAACEAAAAAAAAAIQAAAAAAAAAhAAAAAAAAACEAAAAAAAAAIQAAAAAAAAAhAAAAAAAAACEAAAAAAAAAIQAAAAAAAAAhAAAAAAAAACEAAAAAAAAAIQAAAAAAAAAhAAAAAAAAACEAAAAAAAAAIQAAAAAAAAAhAAAAAAAAACEAAAAAAAAAIQAAAAAAAAAhAAAAAAAAACEAAAAAAAAAIQAAAAAAAAAhAAAAAAAAACEAAAAAAAAAIQAAAAAAAAAhAAAAAAAAACEAAAAAAAAAIQAAAAAAAAAhAAAAAAAAACEAAAAAAAAAIQAAAAAAAAAhAAAAAAAAACEAAAAAAAAAIQAAAAAAAAAhAAAAAAAAACEAAAAAAAAAIQAAAAAAAAAhAAAAAAAAACEAAAAAAAAAIQAAAAAAAAAhAAAAAAAAACEAAAAAAAAAIQAAAAAAAAAhAAAAAAAAACEAAAAAAAAAIQAAAAAAAAAhAAAAAAAAACEAAAAAAAAAIQAAAAAAAAAhAAAAAAAAACEAAAAAAAAAIQAAAAAAAAAhAAAAAAAAACEAAAAAAAAAIQAAAAAAAAAhAAAAAAAAACEAAAAAAAAAIQAAAAAAAAAhAAAAAAAAACEAAAAAAAAAIQAAAAAAAAAhAAAAAAAAACEAAAAAAAAAIQAAAAAAAAAhAAAAAAAAACEAAAAAAAAAIQAAAAAAAAAhAAAAAAAAACEAAAAAAAAAIQAAAAAAAAAhAAAAAAAAACEAAAAAAAAAIQAAAAAAAAAhAAAAAAAAACEAAAAAAAAAIQAAAAAAAAAhAAAAAAAAACEAAAAAAAAAIQAAAAAAAAAhAAAAAAAAACEAAAAAAAAAIQAAAAAAAAAhAAAAAAAAACEAAAAAAAAAIQAAAAAAAAAhAAAAAAAAACEAAAAAAAAAIQAAAAAAAAAhAAAAAAAAACEAAAAAAAAAIQAAAAAAAAAhAAAAAAAAACEAAAAAAAAAIQAAAAAAAAAhAAAAAAAAACEAAAAAAAAAIQAAAAAAAAAhAAAAAAAAACEAAAAAAAAAIQAAAAAAAAAhAAAAAAAAACEAAAAAAAAAIQAAAAAAAAAhAAAAAAAAACEAAAAAAAAAIQAAAAAAAAAhAAAAAAAAACEAAAAAAAAAIQAAAAAAAAAhAAAAAAAAACEAAAAAAAAAIQAAAAAAAAAhAAAAAAAAACEAAAAAAAAAIQAAAAAAAAAhAAAAAAAAACEAAAAAAAAAIQAAAAAAAAAhAAAAAAAAACEAAAAAAAAAIQAAAAAAAAAhAAAAAAAAACEAAAAAAAAAIQAAAAAAAAAhAAAAAAAAACEAAAAAAAAAIQAAAAAAAAAhAAAAAAAAACEAAAAAAAAAIQAAAAAAAAAhAAAAAAAAACEAAAAAAAAAIQAAAAAAAAAhAAAAAAAAACEAAAAAAAAAIQAAAAAAAAAhAAAAAAAAACEAAAAAAAAAIQAAAAAAAAAhAAAAAAAAACEAAAAAAAAAIQAAAAAAAAAhAAAAAAAAACEAAAAAAAAAIQAAAAAAAAAhAAAAAAAAACEAAAAAAAAAIQAAAAAAAAAhAAAAAAAAACEAAAAAAAAAIQAAAAAAAAAhAAAAAAAAACEAAAAAAAAAIQAAAAAAAAAhAAAAAAAAACEAAAAAAAAAIQAAAAAAAAAhAAAAAAAAACEAAAAAAAAAIQAAAAAAAAAhAAAAAAAAACEAAAAAAAAAIQAAAAAAAAAhAAAAAAAAACEAAAAAAAAAIQAAAAAAAAAhAAAAAAAAACEAAAAAAAAAIQAAAAAAAAAhAAAAAAAAACEAAAAAAAAAIQAAAAAAAAAhAAAAAAAAACEAAAAAAAAAIQAAAAAAAAAhAAAAAAAAACEAAAAAAAAAIQAAAAAAAAAhAAAAAAAAACEAAAAAAAAAIQAAAAAAAAAhAAAAAAAAACEAAAAAAAAAIQAAAAAAAAAhAAAAAAAAACEAAAAAAAAAIQAAAAAAAAAhAAAAAAAAACEAAAAAAAAAIQAAAAAAAAAhAAAAAAAAACEAAAAAAAAAIQAAAAAAAAAhAAAAAAAAACEAAAAAAAAAIQAAAAAAAAAhAAAAAAAAACEAAAAAAAAAIQAAAAAAAAAhAAAAAAAAACEAAAAAAAAAIQAAAAAAAAAhAAAAAAAAACEAAAAAAAAAIQAAAAAAAAAhAAAAAAAAACEAAAAAAAAAIQAAAAAAAAAhAAAAAAAAACEAAAAAAAAAIQAAAAAAAAAhAAAAAAAAACEAAAAAAAAAIQAAAAAAAAAhAAAAAAAAACEAAAAAAAAAIQAAAAAAAAAhAAAAAAAAACEAAAAAAAAAIQAAAAAAAAAhAAAAAAAAACEAAAAAAAAAIQAAAAAAAAAhAAAAAAAAACEAAAAAAAAAQQAAAAAAAABBAAAAAAAAAEEAAAAAAAAAQQAAAAAAAABBAAAAAAAAAEEAAAAAAAAAQQAAAAAAAABBAAAAAAAAAEEAAAAAAAAAQQAAAAAAAABBAAAAAAAAAEEAAAAAAAAAQQAAAAAAAABBAAAAAAAAAEEAAAAAAAAAQQAAAAAAAABBAAAAAAAAAEEAAAAAAAAAQQAAAAAAAABBAAAAAAAAAEEAAAAAAAAAQQAAAAAAAABBAAAAAAAAAEEAAAAAAAAAQQAAAAAAAABBAAAAAAAAAEEAAAAAAAAAQQAAAAAAAABBAAAAAAAAAEEAAAAAAAAAQQAAAAAAAABBAAAAAAAAAEEAAAAAAAAAQQAAAAAAAABBAAAAAAAAAEEAAAAAAAAAQQAAAAAAAABBAAAAAAAAAEEAAAAAAAAAQQAAAAAAAABBAAAAAAAAAEEAAAAAAAAAQQAAAAAAAABBAAAAAAAAAEEAAAAAAAAAQQAAAAAAAABBAAAAAAAAAEEAAAAAAAAAQQAAAAAAAABBAAAAAAAAAEEAAAAAAAAAQQAAAAAAAABBAAAAAAAAAEEAAAAAAAAAQQAAAAAAAABBAAAAAAAAAEEAAAAAAAAAQQAAAAAAAABBAAAAAAAAAEEAAAAAAAAAQQAAAAAAAABBAAAAAAAAAEEAAAAAAAAAQQAAAAAAAABBAAAAAAAAAEEAAAAAAAAAQQAAAAAAAABBAAAAAAAAAEEAAAAAAAAAQQAAAAAAAABBAAAAAAAAAEEAAAAAAAAAQQAAAAAAAABBAAAAAAAAAEEAAAAAAAAAQQAAAAAAAABBAAAAAAAAAEEAAAAAAAAAQQAAAAAAAABBAAAAAAAAAEEAAAAAAAAAQQAAAAAAAABBAAAAAAAAAEEAAAAAAAAAQQAAAAAAAABBAAAAAAAAAEEAAAAAAAAAQQAAAAAAAABBAAAAAAAAAEEAAAAAAAAAQQAAAAAAAABBAAAAAAAAAEEAAAAAAAAAQQAAAAAAAABBAAAAAAAAAEEAAAAAAAAAQQAAAAAAAABBAAAAAAAAAEEAAAAAAAAAQQAAAAAAAABBAAAAAAAAAEEAAAAAAAAAQQAAAAAAAABBAAAAAAAAAEEAAAAAAAAAQQAAAAAAAABBAAAAAAAAAEEAAAAAAAAAQQAAAAAAAABBAAAAAAAAAEEAAAAAAAAAQQAAAAAAAABBAAAAAAAAAEEAAAAAAAAAQQAAAAAAAABBAAAAAAAAAEEAAAAAAAAAQQAAAAAAAABBAAAAAAAAAEEAAAAAAAAAQQAAAAAAAABBAAAAAAAAAEEAAAAAAAAAQQAAAAAAAABBAAAAAAAAAEEAAAAAAAAAQQAAAAAAAABBAAAAAAAAAEEAAAAAAAAAQQAAAAAAAABBAAAAAAAAAEEAAAAAAAAAQQAAAAAAAABBAAAAAAAAAEEAAAAAAAAAQQAAAAAAAABBAAAAAAAAAEEAAAAAAAAAQQAAAAAAAABBAAAAAAAAAEEAAAAAAAAAQQAAAAAAAABBAAAAAAAAAEEAAAAAAAAAQQAAAAAAAABBAAAAAAAAAEEAAAAAAAAAQQAAAAAAAABBAAAAAAAAAEEAAAAAAAAAQQAAAAAAAABBAAAAAAAAAEEAAAAAAAAAQQAAAAAAAABBAAAAAAAAAEEAAAAAAAAAQQAAAAAAAABBAAAAAAAAAEEAAAAAAAAAQQAAAAAAAABBAAAAAAAAAEEAAAAAAAAAQQAAAAAAAABBAAAAAAAAAEEAAAAAAAAAQQAAAAAAAABBAAAAAAAAAEEAAAAAAAAAQQAAAAAAAABBAAAAAAAAAEEAAAAAAAAAQQAAAAAAAABBAAAAAAAAAEEAAAAAAAAAQQAAAAAAAABBAAAAAAAAAEEAAAAAAAAAQQAAAAAAAABBAAAAAAAAAEEAAAAAAAAAQQAAAAAAAABBAAAAAAAAAEEAAAAAAAAAQQAAAAAAAABBAAAAAAAAAEEAAAAAAAAAQQAAAAAAAABBAAAAAAAAAEEAAAAAAAAAQQAAAAAAAABBAAAAAAAAAEEAAAAAAAAAQQAAAAAAAABBAAAAAAAAAEEAAAAAAAAAQQAAAAAAAABBAAAAAAAAAEEAAAAAAAAAQQAAAAAAAABBAAAAAAAAAEEAAAAAAAAAQQAAAAAAAABBAAAAAAAAAEEAAAAAAAAAQQAAAAAAAABBAAAAAAAAAEEAAAAAAAAAQQAAAAAAAABBAAAAAAAAAEEAAAAAAAAAQQAAAAAAAABBAAAAAAAAAEEAAAAAAAAAQQAAAAAAAABBAAAAAAAAAEEAAAAAAAAAQQAAAAAAAABBAAAAAAAAAEEAAAAAAAAAQQAAAAAAAABBAAAAAAAAAEEAAAAAAAAAQQAAAAAAAABBAAAAAAAAAEEAAAAAAAAAQQAAAAAAAABBAAAAAAAAAEEAAAAAAAAAQQAAAAAAAABBAAAAAAAAAEEAAAAAAAAAQQAAAAAAAABBAAAAAAAAAEEAAAAAAAAAQQAAAAAAAABBAAAAAAAAAEEAAAAAAAAAQQAAAAAAAABBAAAAAAAAAEEAAAAAAAAAQQAAAAAAAABBAAAAAAAAAEEAAAAAAAAAQQAAAAAAAABBAAAAAAAAAEEAAAAAAAAAQQAAAAAAAABBAAAAAAAAAEEAAAAAAAAAQQAAAAAAAABBAAAAAAAAAEEAAAAAAAAAQQAAAAAAAABBAAAAAAAAAEEAAAAAAAAAQQAAAAAAAABBAAAAAAAAAEEAAAAAAAAAQQAAAAAAAABBAAAAAAAAAEEAAAAAAAAAQQAAAAAAAABBAAAAAAAAAEEAAAAAAAAAQQAAAAAAAABBAAAAAAAAAEEAAAAAAAAAQQAAAAAAAABBAAAAAAAAAEEAAAAAAAAAQQAAAAAAAABBAAAAAAAAAEEAAAAAAAAAQQAAAAAAAABBAAAAAAAAAEEAAAAAAAAAQQAAAAAAAABBAAAAAAAAAEEAAAAAAAAAQQAAAAAAAABBAAAAAAAAAEEAAAAAAAAAQQAAAAAAAABBAAAAAAAAAEEAAAAAAAAAQQAAAAAAAABBAAAAAAAAAEEAAAAAAAAAQQAAAAAAAABBAAAAAAAAAEEAAAAAAAAAQQAAAAAAAABBAAAAAAAAAEEAAAAAAAAAQQAAAAAAAABBAAAAAAAAAEEAAAAAAAAAQQAAAAAAAABBAAAAAAAAAEEAAAAAAAAAQQAAAAAAAABBAAAAAAAAAEEAAAAAAAAAQQAAAAAAAABBAAAAAAAAAEEAAAAAAAAAQQAAAAAAAABBAAAAAAAAAEEAAAAAAAAAQQAAAAAAAABBAAAAAAAAAEEAAAAAAAAAQQAAAAAAAABBAAAAAAAAAEEAAAAAAAAAQQAAAAAAAABBAAAAAAAAAEEAAAAAAAAAUQAAAAAAAABRAAAAAAAAAFEAAAAAAAAAUQAAAAAAAABRAAAAAAAAAFEAAAAAAAAAUQAAAAAAAABRAAAAAAAAAFEAAAAAAAAAUQAAAAAAAABRAAAAAAAAAFEAAAAAAAAAUQAAAAAAAABRAAAAAAAAAFEAAAAAAAAAUQAAAAAAAABRAAAAAAAAAFEAAAAAAAAAUQAAAAAAAABRAAAAAAAAAFEAAAAAAAAAUQAAAAAAAABRAAAAAAAAAFEAAAAAAAAAUQAAAAAAAABRAAAAAAAAAFEAAAAAAAAAUQAAAAAAAABRAAAAAAAAAFEAAAAAAAAAUQAAAAAAAABRAAAAAAAAAFEAAAAAAAAAUQAAAAAAAABRAAAAAAAAAFEAAAAAAAAAUQAAAAAAAABRAAAAAAAAAFEAAAAAAAAAUQAAAAAAAABRAAAAAAAAAFEAAAAAAAAAUQAAAAAAAABRAAAAAAAAAFEAAAAAAAAAUQAAAAAAAABRAAAAAAAAAFEAAAAAAAAAUQAAAAAAAABRAAAAAAAAAFEAAAAAAAAAUQAAAAAAAABRAAAAAAAAAFEAAAAAAAAAUQAAAAAAAABRAAAAAAAAAFEAAAAAAAAAUQAAAAAAAABRAAAAAAAAAFEAAAAAAAAAUQAAAAAAAABRAAAAAAAAAFEAAAAAAAAAUQAAAAAAAABRAAAAAAAAAFEAAAAAAAAAUQAAAAAAAABRAAAAAAAAAFEAAAAAAAAAUQAAAAAAAABRAAAAAAAAAFEAAAAAAAAAUQAAAAAAAABRAAAAAAAAAFEAAAAAAAAAUQAAAAAAAABRAAAAAAAAAFEAAAAAAAAAUQAAAAAAAABRAAAAAAAAAFEAAAAAAAAAUQAAAAAAAABRAAAAAAAAAFEAAAAAAAAAUQAAAAAAAABRAAAAAAAAAFEAAAAAAAAAUQAAAAAAAABRAAAAAAAAAFEAAAAAAAAAUQAAAAAAAABRAAAAAAAAAFEAAAAAAAAAUQAAAAAAAABRAAAAAAAAAFEAAAAAAAAAUQAAAAAAAABRAAAAAAAAAFEAAAAAAAAAUQAAAAAAAABRAAAAAAAAAFEAAAAAAAAAUQAAAAAAAABRAAAAAAAAAFEAAAAAAAAAUQAAAAAAAABRAAAAAAAAAFEAAAAAAAAAUQAAAAAAAABRAAAAAAAAAFEAAAAAAAAAUQAAAAAAAABRAAAAAAAAAFEAAAAAAAAAUQAAAAAAAABRAAAAAAAAAFEAAAAAAAAAUQAAAAAAAABRAAAAAAAAAFEAAAAAAAAAUQAAAAAAAABRAAAAAAAAAFEAAAAAAAAAUQAAAAAAAABRAAAAAAAAAFEAAAAAAAAAUQAAAAAAAABRAAAAAAAAAFEAAAAAAAAAUQAAAAAAAABRAAAAAAAAAFEAAAAAAAAAUQAAAAAAAABRAAAAAAAAAFEAAAAAAAAAUQAAAAAAAABRAAAAAAAAAFEAAAAAAAAAUQAAAAAAAABRAAAAAAAAAFEAAAAAAAAAUQAAAAAAAABRAAAAAAAAAFEAAAAAAAAAUQAAAAAAAABRAAAAAAAAAFEAAAAAAAAAUQAAAAAAAABRAAAAAAAAAFEAAAAAAAAAUQAAAAAAAABRAAAAAAAAAFEAAAAAAAAAUQAAAAAAAABRAAAAAAAAAFEAAAAAAAAAUQAAAAAAAABRAAAAAAAAAFEAAAAAAAAAUQAAAAAAAABRAAAAAAAAAFEAAAAAAAAAUQAAAAAAAABRAAAAAAAAAFEAAAAAAAAAUQAAAAAAAABRAAAAAAAAAFEAAAAAAAAAUQAAAAAAAABRAAAAAAAAAFEAAAAAAAAAUQAAAAAAAABRAAAAAAAAAFEAAAAAAAAAUQAAAAAAAABRAAAAAAAAAFEAAAAAAAAAUQAAAAAAAABRAAAAAAAAAFEAAAAAAAAAUQAAAAAAAABRAAAAAAAAAFEAAAAAAAAAUQAAAAAAAABRAAAAAAAAAFEAAAAAAAAAUQAAAAAAAABRAAAAAAAAAFEAAAAAAAAAUQAAAAAAAABRAAAAAAAAAFEAAAAAAAAAUQAAAAAAAABRAAAAAAAAAFEAAAAAAAAAUQAAAAAAAABRAAAAAAAAAFEAAAAAAAAAUQAAAAAAAABRAAAAAAAAAFEAAAAAAAAAUQAAAAAAAABRAAAAAAAAAFEAAAAAAAAAUQAAAAAAAABRAAAAAAAAAFEAAAAAAAAAUQAAAAAAAABRAAAAAAAAAFEAAAAAAAAAUQAAAAAAAABRAAAAAAAAAFEAAAAAAAAAUQAAAAAAAABRAAAAAAAAAFEAAAAAAAAAUQAAAAAAAABRAAAAAAAAAFEAAAAAAAAAUQAAAAAAAABRAAAAAAAAAFEAAAAAAAAAUQAAAAAAAABRAAAAAAAAAFEAAAAAAAAAUQAAAAAAAABRAAAAAAAAAFEAAAAAAAAAUQAAAAAAAABRAAAAAAAAAFEAAAAAAAAAUQAAAAAAAABRAAAAAAAAAFEAAAAAAAAAUQAAAAAAAABRAAAAAAAAAFEAAAAAAAAAUQAAAAAAAABRAAAAAAAAAFEAAAAAAAAAUQAAAAAAAABRAAAAAAAAAFEAAAAAAAAAUQAAAAAAAABRAAAAAAAAAFEAAAAAAAAAUQAAAAAAAABRAAAAAAAAAFEAAAAAAAAAUQAAAAAAAABRAAAAAAAAAFEAAAAAAAAAUQAAAAAAAABRAAAAAAAAAFEAAAAAAAAAUQAAAAAAAABRAAAAAAAAAFEAAAAAAAAAUQAAAAAAAABRAAAAAAAAAFEAAAAAAAAAUQAAAAAAAABRAAAAAAAAAFEAAAAAAAAAUQAAAAAAAABRAAAAAAAAAFEAAAAAAAAAUQAAAAAAAABRAAAAAAAAAFEAAAAAAAAAUQAAAAAAAABRAAAAAAAAAFEAAAAAAAAAUQAAAAAAAABRAAAAAAAAAFEAAAAAAAAAUQAAAAAAAABRAAAAAAAAAFEAAAAAAAAAUQAAAAAAAABRAAAAAAAAAFEAAAAAAAAAUQAAAAAAAABRAAAAAAAAAFEAAAAAAAAAUQAAAAAAAABRAAAAAAAAAFEAAAAAAAAAUQAAAAAAAABRAAAAAAAAAFEAAAAAAAAAUQAAAAAAAABRAAAAAAAAAFEAAAAAAAAAUQAAAAAAAABRAAAAAAAAAFEAAAAAAAAAUQAAAAAAAABRAAAAAAAAAFEAAAAAAAAAUQAAAAAAAABRAAAAAAAAAFEAAAAAAAAAUQAAAAAAAABRAAAAAAAAAFEAAAAAAAAAUQAAAAAAAABRAAAAAAAAAFEAAAAAAAAAUQAAAAAAAABRAAAAAAAAAFEAAAAAAAAAUQAAAAAAAABRAAAAAAAAAFEAAAAAAAAAUQAAAAAAAABRAAAAAAAAAFEAAAAAAAAAYQAAAAAAAABhAAAAAAAAAGEAAAAAAAAAYQAAAAAAAABhAAAAAAAAAGEAAAAAAAAAYQAAAAAAAABhAAAAAAAAAGEAAAAAAAAAYQAAAAAAAABhAAAAAAAAAGEAAAAAAAAAYQAAAAAAAABhAAAAAAAAAGEAAAAAAAAAYQAAAAAAAABhAAAAAAAAAGEAAAAAAAAAYQAAAAAAAABhAAAAAAAAAGEAAAAAAAAAYQAAAAAAAABhAAAAAAAAAGEAAAAAAAAAYQAAAAAAAABhAAAAAAAAAGEAAAAAAAAAYQAAAAAAAABhAAAAAAAAAGEAAAAAAAAAYQAAAAAAAABhAAAAAAAAAGEAAAAAAAAAYQAAAAAAAABhAAAAAAAAAGEAAAAAAAAAYQAAAAAAAABhAAAAAAAAAGEAAAAAAAAAYQAAAAAAAABhAAAAAAAAAGEAAAAAAAAAYQAAAAAAAABhAAAAAAAAAGEAAAAAAAAAYQAAAAAAAABhAAAAAAAAAGEAAAAAAAAAYQAAAAAAAABhAAAAAAAAAGEAAAAAAAAAYQAAAAAAAABhAAAAAAAAAGEAAAAAAAAAYQAAAAAAAABhAAAAAAAAAGEAAAAAAAAAYQAAAAAAAABhAAAAAAAAAGEAAAAAAAAAYQAAAAAAAABhAAAAAAAAAGEAAAAAAAAAYQAAAAAAAABhAAAAAAAAAGEAAAAAAAAAYQAAAAAAAABhAAAAAAAAAGEAAAAAAAAAYQAAAAAAAABhAAAAAAAAAGEAAAAAAAAAYQAAAAAAAABhAAAAAAAAAGEAAAAAAAAAYQAAAAAAAABhAAAAAAAAAGEAAAAAAAAAYQAAAAAAAABhAAAAAAAAAGEAAAAAAAAAYQAAAAAAAABhAAAAAAAAAGEAAAAAAAAAYQAAAAAAAABhAAAAAAAAAGEAAAAAAAAAYQAAAAAAAABhAAAAAAAAAGEAAAAAAAAAYQAAAAAAAABhAAAAAAAAAGEAAAAAAAAAYQAAAAAAAABhAAAAAAAAAGEAAAAAAAAAYQAAAAAAAABhAAAAAAAAAGEAAAAAAAAAYQAAAAAAAABhAAAAAAAAAGEAAAAAAAAAYQAAAAAAAABhAAAAAAAAAGEAAAAAAAAAYQAAAAAAAABhAAAAAAAAAGEAAAAAAAAAYQAAAAAAAABhAAAAAAAAAGEAAAAAAAAAYQAAAAAAAABhAAAAAAAAAGEAAAAAAAAAYQAAAAAAAABhAAAAAAAAAGEAAAAAAAAAYQAAAAAAAABhAAAAAAAAAGEAAAAAAAAAYQAAAAAAAABhAAAAAAAAAGEAAAAAAAAAYQAAAAAAAABhAAAAAAAAAGEAAAAAAAAAYQAAAAAAAABhAAAAAAAAAGEAAAAAAAAAYQAAAAAAAABhAAAAAAAAAGEAAAAAAAAAYQAAAAAAAABhAAAAAAAAAGEAAAAAAAAAYQAAAAAAAABhAAAAAAAAAGEAAAAAAAAAYQAAAAAAAABhAAAAAAAAAGEAAAAAAAAAYQAAAAAAAABhAAAAAAAAAGEAAAAAAAAAYQAAAAAAAABhAAAAAAAAAGEAAAAAAAAAYQAAAAAAAABhAAAAAAAAAGEAAAAAAAAAYQAAAAAAAABhAAAAAAAAAGEAAAAAAAAAYQAAAAAAAABhAAAAAAAAAGEAAAAAAAAAYQAAAAAAAABhAAAAAAAAAGEAAAAAAAAAYQAAAAAAAABhAAAAAAAAAGEAAAAAAAAAYQAAAAAAAABhAAAAAAAAAGEAAAAAAAAAYQAAAAAAAABhAAAAAAAAAGEAAAAAAAAAYQAAAAAAAABhAAAAAAAAAGEAAAAAAAAAYQAAAAAAAABhAAAAAAAAAGEAAAAAAAAAYQAAAAAAAABhAAAAAAAAAGEAAAAAAAAAYQAAAAAAAABhAAAAAAAAAGEAAAAAAAAAYQAAAAAAAABhAAAAAAAAAGEAAAAAAAAAYQAAAAAAAABhAAAAAAAAAGEAAAAAAAAAYQAAAAAAAABhAAAAAAAAAGEAAAAAAAAAYQAAAAAAAABhAAAAAAAAAGEAAAAAAAAAYQAAAAAAAABhAAAAAAAAAGEAAAAAAAAAYQAAAAAAAABhAAAAAAAAAGEAAAAAAAAAYQAAAAAAAABhAAAAAAAAAGEAAAAAAAAAYQAAAAAAAABhAAAAAAAAAGEAAAAAAAAAYQAAAAAAAABhAAAAAAAAAGEAAAAAAAAAYQAAAAAAAABhAAAAAAAAAGEAAAAAAAAAYQAAAAAAAABhAAAAAAAAAGEAAAAAAAAAYQAAAAAAAABhAAAAAAAAAGEAAAAAAAAAYQAAAAAAAABhAAAAAAAAAGEAAAAAAAAAYQAAAAAAAABhAAAAAAAAAGEAAAAAAAAAYQAAAAAAAABhAAAAAAAAAGEAAAAAAAAAYQAAAAAAAABhAAAAAAAAAGEAAAAAAAAAYQAAAAAAAABhAAAAAAAAAGEAAAAAAAAAYQAAAAAAAABhAAAAAAAAAGEAAAAAAAAAYQAAAAAAAABhAAAAAAAAAGEAAAAAAAAAYQAAAAAAAABhAAAAAAAAAGEAAAAAAAAAYQAAAAAAAABhAAAAAAAAAGEAAAAAAAAAYQAAAAAAAABhAAAAAAAAAGEAAAAAAAAAYQAAAAAAAABhAAAAAAAAAGEAAAAAAAAAYQA==\",\"dtype\":\"float64\",\"shape\":[2000]},\"y\":{\"__ndarray__\":\"AAAAAAAAAAAAAAAAAAAAAAAAAAAAAAAAAAAAAAAAAAAAAAAAAAAAAAAAAAAAAAAAAAAAAAAAAAAAAAAAAAAAAAAAAAAAAAAAAAAAAAAAAAAAAAAAAAAAAAAAAAAAAAAAAAAAAAAAAAAAAAAAAAAAAAAAAAAAAAAAAAAAAAAAAAAAAAAAAAAAAAAAAAAAAAAAAAAAAAAAAAAAAAAAAAAAAAAAAAAAAAAAAAAAAAAAAAAAAAAAAAAAAAAAAAAAAAAAAAAAAAAAAAAAAAAAAAAAAAAAAAAAAAAAAAAAAAAAAAAAAAAAAAAAAAAAAAAAAAAAAAAAAAAAAAAAAAAAAAAAAAAAAAAAAAAAAAAAAAAAAAAAAAAAAAAAAAAAAAAAAAAAAAAAAAAAAAAAAAAAAAAAAAAAAAAAAAAAAAAAAAAAAAAAAAAAAAAAAAAAAAAAAAAAAAAAAAAAAAAAAAAAAAAAAAAAAAAAAAAAAAAAAAAAAAAAAAAAAAAAAAAAAAAAAAAAAAAAAAAAAAAAAAAAAAAAAAAAAAAAAAAAAAAAAAAAAAAAAAAAAAAAAAAAAAAAAAAAAAAAAAAAAAAAAAAAAAAAAAAAAAAAAAAAAAAAAAAAAAAAAAAAAAAAAAAAAAAAAAAAAAAAAAAAAAAAAAAAAAAAAAAAAAAAAAAAAAAAAAAAAAAAAAAAAAAAAAAAAAAAAAAAAAAAAAAAAAAAAAAAAAAAAAAAAAAAAAAAAAAAAAAAAAAAAAAAAAAAAAAAAAAAAAAAAAAAAAAAAAAAAAAAAAAAAAAAAAAAAAAAAAAAAAAAAAAAAAAAAAAAAAAAAAAAAAAAAAAAAAAAAAAAAAAAAAAAAAAAAAAAAAAAAAAAAAAAAAAAAAAAAAAAAAAAAAAAAAAAAAAAAAAAAAAAAAAAAAAAAAAAAAAAAAAAAAAAAAAAAAAAAAAAAAAAAAAAAAAAAAAAAAAAAAAAAAAAAAAAAAAAAAAAAAAAAAAAAAAAAAAAAAAAAAAAAAAAAAAAAAAAAAAAAAAAAAAAAAAAAAAAAAAAAAAAAAAAAAAAAAAAAAAAAAAAAAAAAAAAAAAAAAAAAAAAAAAAAAAAAAAAAAAAAAAAAAAAAAAAAAAAAAAAAAAAAAAAAAAAAAAAAAAAAAAAAAAAAAAAAAAAAAAAAAAAAAAAAAAAAAAAAAAAAAAAAAAAAAAAAAAAAAAAAAAAAAAAAAAAAAAAAAAAAAAAAAAAAAAAAAAAAAAAAAAAAAAAAAAAAAAAAAAAAAAAAAAAAAAAAAAAAAAAAAAAAAAAAAAAAAAAAAAAAAAAAAAAAAAAAAAAAAAAAAAAAAAAAAAAAAAAAAAAAAAAAAAAAAAAAAAAAAAAAAAAAAAAAAAAAAAAAAAAAAAAAAAAAAAAAAAAAAAAAAAAAAAAAAAAAAAAAAAAAAAAAAAAAAAAAAAAAAAAAAAAAAAAAAAAAAAAAAAAAAAAAAAAAAAAAAAAAAAAAAAAAAAAAAAAAAAAAAAAAAAAAAAAAAAAAAAAAAAAAAAAAAAAAAAAAAAAAAAAAAAAAAAAAAAAAAAAAAAAAAAAAAAAAAAAAAAAAAAAAAAAAAAAAAAAAAAAAAAAAAAAAAAAAAAAAAAAAAAAAAAAAAAAAAAAAAAAAAAAAAAAAAAAAAAAAAAAAAAAAAAAAAAAAAAAAAAAAAAAAAAAAAAAAAAAAAAAAAAAAADuDAmPVO3qP+4MCY9U7eo/7gwJj1Tt6j/uDAmPVO3qP+4MCY9U7eo/7gwJj1Tt6j/uDAmPVO3qP+4MCY9U7eo/7gwJj1Tt6j/uDAmPVO3qP+4MCY9U7eo/7gwJj1Tt6j/uDAmPVO3qP+4MCY9U7eo/7gwJj1Tt6j/uDAmPVO3qP+4MCY9U7eo/7gwJj1Tt6j/uDAmPVO3qP+4MCY9U7eo/7gwJj1Tt6j/uDAmPVO3qP+4MCY9U7eo/7gwJj1Tt6j/uDAmPVO3qP+4MCY9U7eo/7gwJj1Tt6j/uDAmPVO3qP+4MCY9U7eo/7gwJj1Tt6j/uDAmPVO3qP+4MCY9U7eo/7gwJj1Tt6j/uDAmPVO3qP+4MCY9U7eo/7gwJj1Tt6j/uDAmPVO3qP+4MCY9U7eo/7gwJj1Tt6j/uDAmPVO3qP+4MCY9U7eo/7gwJj1Tt6j/uDAmPVO3qP+4MCY9U7eo/7gwJj1Tt6j/uDAmPVO3qP+4MCY9U7eo/7gwJj1Tt6j/uDAmPVO3qP+4MCY9U7eo/7gwJj1Tt6j/uDAmPVO3qP+4MCY9U7eo/7gwJj1Tt6j/uDAmPVO3qP+4MCY9U7eo/7gwJj1Tt6j/uDAmPVO3qP+4MCY9U7eo/7gwJj1Tt6j/uDAmPVO3qP+4MCY9U7eo/7gwJj1Tt6j/uDAmPVO3qP+4MCY9U7eo/7gwJj1Tt6j/uDAmPVO3qP+4MCY9U7eo/7gwJj1Tt6j/uDAmPVO3qP+4MCY9U7eo/7gwJj1Tt6j/uDAmPVO3qP+4MCY9U7eo/7gwJj1Tt6j/uDAmPVO3qP+4MCY9U7eo/7gwJj1Tt6j/uDAmPVO3qP+4MCY9U7eo/7gwJj1Tt6j/uDAmPVO3qP+4MCY9U7eo/7gwJj1Tt6j/uDAmPVO3qP+4MCY9U7eo/7gwJj1Tt6j/uDAmPVO3qP+4MCY9U7eo/7gwJj1Tt6j/uDAmPVO3qP+4MCY9U7eo/7gwJj1Tt6j/uDAmPVO3qP+4MCY9U7eo/7gwJj1Tt6j/uDAmPVO3qP+4MCY9U7eo/7gwJj1Tt6j/uDAmPVO3qP+4MCY9U7eo/7gwJj1Tt6j/uDAmPVO3qP+4MCY9U7eo/7gwJj1Tt6j/uDAmPVO3qP+4MCY9U7eo/7gwJj1Tt6j/uDAmPVO3qP+4MCY9U7eo/7gwJj1Tt6j/uDAmPVO3qP+4MCY9U7eo/7gwJj1Tt6j/uDAmPVO3qP+4MCY9U7eo/7gwJj1Tt6j/uDAmPVO3qP+4MCY9U7eo/7gwJj1Tt6j/uDAmPVO3qP+4MCY9U7eo/7gwJj1Tt6j/uDAmPVO3qP+4MCY9U7eo/7gwJj1Tt6j/uDAmPVO3qP+4MCY9U7eo/7gwJj1Tt6j/uDAmPVO3qP+4MCY9U7eo/7gwJj1Tt6j/uDAmPVO3qP+4MCY9U7eo/7gwJj1Tt6j/uDAmPVO3qP+4MCY9U7eo/7gwJj1Tt6j/uDAmPVO3qP+4MCY9U7eo/7gwJj1Tt6j/uDAmPVO3qP+4MCY9U7eo/7gwJj1Tt6j/uDAmPVO3qP+4MCY9U7eo/7gwJj1Tt6j/uDAmPVO3qP+4MCY9U7eo/7gwJj1Tt6j/uDAmPVO3qP+4MCY9U7eo/7gwJj1Tt6j/uDAmPVO3qP+4MCY9U7eo/7gwJj1Tt6j/uDAmPVO3qP+4MCY9U7eo/7gwJj1Tt6j/uDAmPVO3qP+4MCY9U7eo/7gwJj1Tt6j/uDAmPVO3qP+4MCY9U7eo/7gwJj1Tt6j/uDAmPVO3qP+4MCY9U7eo/7gwJj1Tt6j/uDAmPVO3qP+4MCY9U7eo/7gwJj1Tt6j/uDAmPVO3qP+4MCY9U7eo/7gwJj1Tt6j/uDAmPVO3qP+4MCY9U7eo/7gwJj1Tt6j/uDAmPVO3qP+4MCY9U7eo/7gwJj1Tt6j/uDAmPVO3qP+4MCY9U7eo/7gwJj1Tt6j/uDAmPVO3qP+4MCY9U7eo/7gwJj1Tt6j/uDAmPVO3qP+4MCY9U7eo/7gwJj1Tt6j/uDAmPVO3qP+4MCY9U7eo/7gwJj1Tt6j/uDAmPVO3qP+4MCY9U7eo/7gwJj1Tt6j/uDAmPVO3qP+4MCY9U7eo/7gwJj1Tt6j/uDAmPVO3qP+4MCY9U7eo/7gwJj1Tt6j/uDAmPVO3qP+4MCY9U7eo/7gwJj1Tt6j/uDAmPVO3qP+4MCY9U7eo/7gwJj1Tt6j/uDAmPVO3qP+4MCY9U7eo/7gwJj1Tt6j/uDAmPVO3qP+4MCY9U7eo/7gwJj1Tt6j/uDAmPVO3qP+4MCY9U7eo/7gwJj1Tt6j/uDAmPVO3qP+4MCY9U7eo/7gwJj1Tt6j/uDAmPVO3qP+4MCY9U7eo/7gwJj1Tt6j/uDAmPVO3qP+4MCY9U7eo/7gwJj1Tt6j/uDAmPVO3qP+4MCY9U7eo/7gwJj1Tt6j/uDAmPVO3qP+4MCY9U7eo/7gwJj1Tt6j/uDAmPVO3qP+4MCY9U7eo/7gwJj1Tt6j/uDAmPVO3qP+4MCY9U7eo/7gwJj1Tt6j/uDAmPVO3qP+4MCY9U7eo/7gwJj1Tt6j/uDAmPVO3qP+4MCY9U7eo/7gwJj1Tt6j/uDAmPVO3qP+4MCY9U7eo/7gwJj1Tt6j/uDAmPVO3qP+4MCY9U7eo/7gwJj1Tt6j/uDAmPVO3qP+4MCY9U7eo/7gwJj1Tt6j/uDAmPVO3qP+4MCY9U7eo/7gwJj1Tt6j/uDAmPVO3qP+4MCY9U7eo/7gwJj1Tt6j/uDAmPVO3qP+4MCY9U7eo/7gwJj1Tt6j/uDAmPVO3qP+4MCY9U7eo/7gwJj1Tt6j/uDAmPVO3qP+4MCY9U7eo/7gwJj1Tt6j/uDAmPVO3qP+4MCY9U7eo/7gwJj1Tt6j/uDAmPVO3qP+4MCY9U7eo/7gwJj1Tt6j/uDAmPVO3qP+4MCY9U7eo/7gwJj1Tt6j/uDAmPVO3qP+4MCY9U7eo/7gwJj1Tt6j/uDAmPVO3qP+4MCY9U7eo/7gwJj1Tt6j/uDAmPVO3qP+4MCY9U7eo/7gwJj1Tt6j/uDAmPVO3qP+4MCY9U7eo/7gwJj1Tt6j/uDAmPVO3qP+4MCY9U7eo/7gwJj1Tt6j/uDAmPVO3qP+4MCY9U7eo/7gwJj1Tt6j/uDAmPVO3qP+4MCY9U7eo/7gwJj1Tt6j/uDAmPVO3qP+4MCY9U7eo/7gwJj1Tt6j/uDAmPVO3qP+4MCY9U7eo/7gwJj1Tt6j/uDAmPVO3qP+4MCY9U7eo/7gwJj1Tt6j/uDAmPVO3qP+4MCY9U7eo/7gwJj1Tt6j/uDAmPVO3qP+4MCY9U7eo/7gwJj1Tt6j/uDAmPVO3qP+4MCY9U7eo/7gwJj1Tt6j/uDAmPVO3qP+4MCY9U7eo/7gwJj1Tt6j9GtNHq9hjtP0a00er2GO0/RrTR6vYY7T9GtNHq9hjtP0a00er2GO0/RrTR6vYY7T9GtNHq9hjtP0a00er2GO0/RrTR6vYY7T9GtNHq9hjtP0a00er2GO0/RrTR6vYY7T9GtNHq9hjtP0a00er2GO0/RrTR6vYY7T9GtNHq9hjtP0a00er2GO0/RrTR6vYY7T9GtNHq9hjtP0a00er2GO0/RrTR6vYY7T9GtNHq9hjtP0a00er2GO0/RrTR6vYY7T9GtNHq9hjtP0a00er2GO0/RrTR6vYY7T9GtNHq9hjtP0a00er2GO0/RrTR6vYY7T9GtNHq9hjtP0a00er2GO0/RrTR6vYY7T9GtNHq9hjtP0a00er2GO0/RrTR6vYY7T9GtNHq9hjtP0a00er2GO0/RrTR6vYY7T9GtNHq9hjtP0a00er2GO0/RrTR6vYY7T9GtNHq9hjtP0a00er2GO0/RrTR6vYY7T9GtNHq9hjtP0a00er2GO0/RrTR6vYY7T9GtNHq9hjtP0a00er2GO0/RrTR6vYY7T9GtNHq9hjtP0a00er2GO0/RrTR6vYY7T9GtNHq9hjtP0a00er2GO0/RrTR6vYY7T9GtNHq9hjtP0a00er2GO0/RrTR6vYY7T9GtNHq9hjtP0a00er2GO0/RrTR6vYY7T9GtNHq9hjtP0a00er2GO0/RrTR6vYY7T9GtNHq9hjtP0a00er2GO0/RrTR6vYY7T9GtNHq9hjtP0a00er2GO0/RrTR6vYY7T9GtNHq9hjtP0a00er2GO0/RrTR6vYY7T9GtNHq9hjtP0a00er2GO0/RrTR6vYY7T9GtNHq9hjtP0a00er2GO0/RrTR6vYY7T9GtNHq9hjtP0a00er2GO0/RrTR6vYY7T9GtNHq9hjtP0a00er2GO0/RrTR6vYY7T9GtNHq9hjtP0a00er2GO0/RrTR6vYY7T9GtNHq9hjtP0a00er2GO0/RrTR6vYY7T9GtNHq9hjtP0a00er2GO0/RrTR6vYY7T9GtNHq9hjtP0a00er2GO0/RrTR6vYY7T9GtNHq9hjtP0a00er2GO0/RrTR6vYY7T9GtNHq9hjtP0a00er2GO0/RrTR6vYY7T9GtNHq9hjtP0a00er2GO0/RrTR6vYY7T9GtNHq9hjtP0a00er2GO0/RrTR6vYY7T9GtNHq9hjtP0a00er2GO0/RrTR6vYY7T9GtNHq9hjtP0a00er2GO0/RrTR6vYY7T9GtNHq9hjtP0a00er2GO0/RrTR6vYY7T9GtNHq9hjtP0a00er2GO0/RrTR6vYY7T9GtNHq9hjtP0a00er2GO0/RrTR6vYY7T9GtNHq9hjtP0a00er2GO0/RrTR6vYY7T9GtNHq9hjtP0a00er2GO0/RrTR6vYY7T9GtNHq9hjtP0a00er2GO0/RrTR6vYY7T9GtNHq9hjtP0a00er2GO0/RrTR6vYY7T9GtNHq9hjtP0a00er2GO0/RrTR6vYY7T9GtNHq9hjtP0a00er2GO0/RrTR6vYY7T9GtNHq9hjtP0a00er2GO0/RrTR6vYY7T9GtNHq9hjtP0a00er2GO0/RrTR6vYY7T9GtNHq9hjtP0a00er2GO0/RrTR6vYY7T9GtNHq9hjtP0a00er2GO0/RrTR6vYY7T9GtNHq9hjtP0a00er2GO0/RrTR6vYY7T9GtNHq9hjtP0a00er2GO0/RrTR6vYY7T9GtNHq9hjtP0a00er2GO0/RrTR6vYY7T9GtNHq9hjtP0a00er2GO0/RrTR6vYY7T9GtNHq9hjtP0a00er2GO0/RrTR6vYY7T9GtNHq9hjtP0a00er2GO0/RrTR6vYY7T9GtNHq9hjtP0a00er2GO0/RrTR6vYY7T9GtNHq9hjtP0a00er2GO0/RrTR6vYY7T9GtNHq9hjtP0a00er2GO0/RrTR6vYY7T9GtNHq9hjtP0a00er2GO0/RrTR6vYY7T9GtNHq9hjtP0a00er2GO0/RrTR6vYY7T9GtNHq9hjtP0a00er2GO0/RrTR6vYY7T9GtNHq9hjtP0a00er2GO0/RrTR6vYY7T9GtNHq9hjtP0a00er2GO0/RrTR6vYY7T9GtNHq9hjtP0a00er2GO0/RrTR6vYY7T9GtNHq9hjtP0a00er2GO0/RrTR6vYY7T9GtNHq9hjtP0a00er2GO0/RrTR6vYY7T9GtNHq9hjtP0a00er2GO0/RrTR6vYY7T9GtNHq9hjtP0a00er2GO0/RrTR6vYY7T9GtNHq9hjtP0a00er2GO0/RrTR6vYY7T9GtNHq9hjtP0a00er2GO0/RrTR6vYY7T9GtNHq9hjtP0a00er2GO0/RrTR6vYY7T9GtNHq9hjtP0a00er2GO0/RrTR6vYY7T9GtNHq9hjtP0a00er2GO0/RrTR6vYY7T9GtNHq9hjtP0a00er2GO0/RrTR6vYY7T9GtNHq9hjtP0a00er2GO0/RrTR6vYY7T9GtNHq9hjtP0a00er2GO0/RrTR6vYY7T9GtNHq9hjtP0a00er2GO0/RrTR6vYY7T9GtNHq9hjtP0a00er2GO0/RrTR6vYY7T9GtNHq9hjtP0a00er2GO0/RrTR6vYY7T9GtNHq9hjtP0a00er2GO0/RrTR6vYY7T9GtNHq9hjtP0a00er2GO0/RrTR6vYY7T9GtNHq9hjtP0a00er2GO0/RrTR6vYY7T9GtNHq9hjtP0a00er2GO0/RrTR6vYY7T9GtNHq9hjtP0a00er2GO0/RrTR6vYY7T9GtNHq9hjtP0a00er2GO0/RrTR6vYY7T9GtNHq9hjtP0a00er2GO0/RrTR6vYY7T9GtNHq9hjtP0a00er2GO0/RrTR6vYY7T9GtNHq9hjtP0a00er2GO0/RrTR6vYY7T9GtNHq9hjtP0a00er2GO0/RrTR6vYY7T9GtNHq9hjtP0a00er2GO0/RrTR6vYY7T9GtNHq9hjtP0a00er2GO0/RrTR6vYY7T9GtNHq9hjtP0a00er2GO0/RrTR6vYY7T9GtNHq9hjtP0a00er2GO0/RrTR6vYY7T9GtNHq9hjtP0a00er2GO0/RrTR6vYY7T9GtNHq9hjtP0a00er2GO0/RrTR6vYY7T9GtNHq9hjtP0a00er2GO0/RrTR6vYY7T9GtNHq9hjtP0a00er2GO0/RrTR6vYY7T9GtNHq9hjtP0a00er2GO0/RrTR6vYY7T9GtNHq9hjtP0a00er2GO0/RrTR6vYY7T9GtNHq9hjtP0a00er2GO0/RrTR6vYY7T9GtNHq9hjtP0a00er2GO0/RrTR6vYY7T9GtNHq9hjtP0a00er2GO0/RrTR6vYY7T9GtNHq9hjtP0a00er2GO0/RrTR6vYY7T9b1bZtOBDCP1vVtm04EMI/W9W2bTgQwj9b1bZtOBDCP1vVtm04EMI/W9W2bTgQwj9b1bZtOBDCP1vVtm04EMI/W9W2bTgQwj9b1bZtOBDCP1vVtm04EMI/W9W2bTgQwj9b1bZtOBDCP1vVtm04EMI/W9W2bTgQwj9b1bZtOBDCP1vVtm04EMI/W9W2bTgQwj9b1bZtOBDCP1vVtm04EMI/W9W2bTgQwj9b1bZtOBDCP1vVtm04EMI/W9W2bTgQwj9b1bZtOBDCP1vVtm04EMI/W9W2bTgQwj9b1bZtOBDCP1vVtm04EMI/W9W2bTgQwj9b1bZtOBDCP1vVtm04EMI/W9W2bTgQwj9b1bZtOBDCP1vVtm04EMI/W9W2bTgQwj9b1bZtOBDCP1vVtm04EMI/W9W2bTgQwj9b1bZtOBDCP1vVtm04EMI/W9W2bTgQwj9b1bZtOBDCP1vVtm04EMI/W9W2bTgQwj9b1bZtOBDCP1vVtm04EMI/W9W2bTgQwj9b1bZtOBDCP1vVtm04EMI/W9W2bTgQwj9b1bZtOBDCP1vVtm04EMI/W9W2bTgQwj9b1bZtOBDCP1vVtm04EMI/W9W2bTgQwj9b1bZtOBDCP1vVtm04EMI/W9W2bTgQwj9b1bZtOBDCP1vVtm04EMI/W9W2bTgQwj9b1bZtOBDCP1vVtm04EMI/W9W2bTgQwj9b1bZtOBDCP1vVtm04EMI/W9W2bTgQwj9b1bZtOBDCP1vVtm04EMI/W9W2bTgQwj9b1bZtOBDCP1vVtm04EMI/W9W2bTgQwj9b1bZtOBDCP1vVtm04EMI/W9W2bTgQwj9b1bZtOBDCP1vVtm04EMI/W9W2bTgQwj9b1bZtOBDCP1vVtm04EMI/W9W2bTgQwj9b1bZtOBDCP1vVtm04EMI/W9W2bTgQwj9b1bZtOBDCP1vVtm04EMI/W9W2bTgQwj9b1bZtOBDCP1vVtm04EMI/W9W2bTgQwj9b1bZtOBDCP1vVtm04EMI/W9W2bTgQwj9b1bZtOBDCP1vVtm04EMI/W9W2bTgQwj9b1bZtOBDCP1vVtm04EMI/W9W2bTgQwj9b1bZtOBDCP1vVtm04EMI/W9W2bTgQwj9b1bZtOBDCP1vVtm04EMI/W9W2bTgQwj9b1bZtOBDCP1vVtm04EMI/W9W2bTgQwj9b1bZtOBDCP1vVtm04EMI/W9W2bTgQwj9b1bZtOBDCP1vVtm04EMI/W9W2bTgQwj9b1bZtOBDCP1vVtm04EMI/W9W2bTgQwj9b1bZtOBDCP1vVtm04EMI/W9W2bTgQwj9b1bZtOBDCP1vVtm04EMI/W9W2bTgQwj9b1bZtOBDCP1vVtm04EMI/W9W2bTgQwj9b1bZtOBDCP1vVtm04EMI/W9W2bTgQwj9b1bZtOBDCP1vVtm04EMI/W9W2bTgQwj9b1bZtOBDCP1vVtm04EMI/W9W2bTgQwj9b1bZtOBDCP1vVtm04EMI/W9W2bTgQwj9b1bZtOBDCP1vVtm04EMI/W9W2bTgQwj9b1bZtOBDCP1vVtm04EMI/W9W2bTgQwj9b1bZtOBDCP1vVtm04EMI/W9W2bTgQwj9b1bZtOBDCP1vVtm04EMI/W9W2bTgQwj9b1bZtOBDCP1vVtm04EMI/W9W2bTgQwj9b1bZtOBDCP1vVtm04EMI/W9W2bTgQwj9b1bZtOBDCP1vVtm04EMI/W9W2bTgQwj9b1bZtOBDCP1vVtm04EMI/W9W2bTgQwj9b1bZtOBDCP1vVtm04EMI/W9W2bTgQwj9b1bZtOBDCP1vVtm04EMI/W9W2bTgQwj9b1bZtOBDCP1vVtm04EMI/W9W2bTgQwj9b1bZtOBDCP1vVtm04EMI/W9W2bTgQwj9b1bZtOBDCP1vVtm04EMI/W9W2bTgQwj9b1bZtOBDCP1vVtm04EMI/W9W2bTgQwj9b1bZtOBDCP1vVtm04EMI/W9W2bTgQwj9b1bZtOBDCP1vVtm04EMI/W9W2bTgQwj9b1bZtOBDCP1vVtm04EMI/W9W2bTgQwj9b1bZtOBDCP1vVtm04EMI/W9W2bTgQwj9b1bZtOBDCP1vVtm04EMI/W9W2bTgQwj9b1bZtOBDCP1vVtm04EMI/W9W2bTgQwj9b1bZtOBDCP1vVtm04EMI/W9W2bTgQwj9b1bZtOBDCP1vVtm04EMI/W9W2bTgQwj9b1bZtOBDCP1vVtm04EMI/W9W2bTgQwj9b1bZtOBDCP1vVtm04EMI/W9W2bTgQwj9b1bZtOBDCP1vVtm04EMI/W9W2bTgQwj9b1bZtOBDCP1vVtm04EMI/W9W2bTgQwj9b1bZtOBDCP1vVtm04EMI/W9W2bTgQwj9b1bZtOBDCP1vVtm04EMI/W9W2bTgQwj9b1bZtOBDCP1vVtm04EMI/W9W2bTgQwj9b1bZtOBDCP1vVtm04EMI/W9W2bTgQwj9b1bZtOBDCP1vVtm04EMI/W9W2bTgQwj9b1bZtOBDCP1vVtm04EMI/W9W2bTgQwj9b1bZtOBDCP1vVtm04EMI/W9W2bTgQwj9b1bZtOBDCP1vVtm04EMI/W9W2bTgQwj9b1bZtOBDCP1vVtm04EMI/W9W2bTgQwj9b1bZtOBDCP1vVtm04EMI/W9W2bTgQwj9b1bZtOBDCP1vVtm04EMI/W9W2bTgQwj9b1bZtOBDCP1vVtm04EMI/W9W2bTgQwj9b1bZtOBDCP1vVtm04EMI/W9W2bTgQwj9b1bZtOBDCP1vVtm04EMI/W9W2bTgQwj9b1bZtOBDCP1vVtm04EMI/W9W2bTgQwj9b1bZtOBDCP1vVtm04EMI/W9W2bTgQwj9b1bZtOBDCP1vVtm04EMI/W9W2bTgQwj9b1bZtOBDCP1vVtm04EMI/W9W2bTgQwj9b1bZtOBDCP1vVtm04EMI/W9W2bTgQwj9b1bZtOBDCP1vVtm04EMI/W9W2bTgQwj9b1bZtOBDCP1vVtm04EMI/W9W2bTgQwj9b1bZtOBDCP1vVtm04EMI/W9W2bTgQwj9b1bZtOBDCP1vVtm04EMI/W9W2bTgQwj9b1bZtOBDCP1vVtm04EMI/W9W2bTgQwj9b1bZtOBDCP1vVtm04EMI/W9W2bTgQwj9b1bZtOBDCP1vVtm04EMI/W9W2bTgQwj9b1bZtOBDCP1vVtm04EMI/W9W2bTgQwj9b1bZtOBDCP1vVtm04EMI/W9W2bTgQwj9b1bZtOBDCP1vVtm04EMI/W9W2bTgQwj9b1bZtOBDCP1vVtm04EMI/W9W2bTgQwj9b1bZtOBDCP1vVtm04EMI/W9W2bTgQwj9b1bZtOBDCP1vVtm04EMI/W9W2bTgQwj9b1bZtOBDCP1vVtm04EMI/W9W2bTgQwj+uHtzduTfov64e3N25N+i/rh7c3bk36L+uHtzduTfov64e3N25N+i/rh7c3bk36L+uHtzduTfov64e3N25N+i/rh7c3bk36L+uHtzduTfov64e3N25N+i/rh7c3bk36L+uHtzduTfov64e3N25N+i/rh7c3bk36L+uHtzduTfov64e3N25N+i/rh7c3bk36L+uHtzduTfov64e3N25N+i/rh7c3bk36L+uHtzduTfov64e3N25N+i/rh7c3bk36L+uHtzduTfov64e3N25N+i/rh7c3bk36L+uHtzduTfov64e3N25N+i/rh7c3bk36L+uHtzduTfov64e3N25N+i/rh7c3bk36L+uHtzduTfov64e3N25N+i/rh7c3bk36L+uHtzduTfov64e3N25N+i/rh7c3bk36L+uHtzduTfov64e3N25N+i/rh7c3bk36L+uHtzduTfov64e3N25N+i/rh7c3bk36L+uHtzduTfov64e3N25N+i/rh7c3bk36L+uHtzduTfov64e3N25N+i/rh7c3bk36L+uHtzduTfov64e3N25N+i/rh7c3bk36L+uHtzduTfov64e3N25N+i/rh7c3bk36L+uHtzduTfov64e3N25N+i/rh7c3bk36L+uHtzduTfov64e3N25N+i/rh7c3bk36L+uHtzduTfov64e3N25N+i/rh7c3bk36L+uHtzduTfov64e3N25N+i/rh7c3bk36L+uHtzduTfov64e3N25N+i/rh7c3bk36L+uHtzduTfov64e3N25N+i/rh7c3bk36L+uHtzduTfov64e3N25N+i/rh7c3bk36L+uHtzduTfov64e3N25N+i/rh7c3bk36L+uHtzduTfov64e3N25N+i/rh7c3bk36L+uHtzduTfov64e3N25N+i/rh7c3bk36L+uHtzduTfov64e3N25N+i/rh7c3bk36L+uHtzduTfov64e3N25N+i/rh7c3bk36L+uHtzduTfov64e3N25N+i/rh7c3bk36L+uHtzduTfov64e3N25N+i/rh7c3bk36L+uHtzduTfov64e3N25N+i/rh7c3bk36L+uHtzduTfov64e3N25N+i/rh7c3bk36L+uHtzduTfov64e3N25N+i/rh7c3bk36L+uHtzduTfov64e3N25N+i/rh7c3bk36L+uHtzduTfov64e3N25N+i/rh7c3bk36L+uHtzduTfov64e3N25N+i/rh7c3bk36L+uHtzduTfov64e3N25N+i/rh7c3bk36L+uHtzduTfov64e3N25N+i/rh7c3bk36L+uHtzduTfov64e3N25N+i/rh7c3bk36L+uHtzduTfov64e3N25N+i/rh7c3bk36L+uHtzduTfov64e3N25N+i/rh7c3bk36L+uHtzduTfov64e3N25N+i/rh7c3bk36L+uHtzduTfov64e3N25N+i/rh7c3bk36L+uHtzduTfov64e3N25N+i/rh7c3bk36L+uHtzduTfov64e3N25N+i/rh7c3bk36L+uHtzduTfov64e3N25N+i/rh7c3bk36L+uHtzduTfov64e3N25N+i/rh7c3bk36L+uHtzduTfov64e3N25N+i/rh7c3bk36L+uHtzduTfov64e3N25N+i/rh7c3bk36L+uHtzduTfov64e3N25N+i/rh7c3bk36L+uHtzduTfov64e3N25N+i/rh7c3bk36L+uHtzduTfov64e3N25N+i/rh7c3bk36L+uHtzduTfov64e3N25N+i/rh7c3bk36L+uHtzduTfov64e3N25N+i/rh7c3bk36L+uHtzduTfov64e3N25N+i/rh7c3bk36L+uHtzduTfov64e3N25N+i/rh7c3bk36L+uHtzduTfov64e3N25N+i/rh7c3bk36L+uHtzduTfov64e3N25N+i/rh7c3bk36L+uHtzduTfov64e3N25N+i/rh7c3bk36L+uHtzduTfov64e3N25N+i/rh7c3bk36L+uHtzduTfov64e3N25N+i/rh7c3bk36L+uHtzduTfov64e3N25N+i/rh7c3bk36L+uHtzduTfov64e3N25N+i/rh7c3bk36L+uHtzduTfov64e3N25N+i/rh7c3bk36L+uHtzduTfov64e3N25N+i/rh7c3bk36L+uHtzduTfov64e3N25N+i/rh7c3bk36L+uHtzduTfov64e3N25N+i/rh7c3bk36L+uHtzduTfov64e3N25N+i/rh7c3bk36L+uHtzduTfov64e3N25N+i/rh7c3bk36L+uHtzduTfov64e3N25N+i/rh7c3bk36L+uHtzduTfov64e3N25N+i/rh7c3bk36L+uHtzduTfov64e3N25N+i/rh7c3bk36L+uHtzduTfov64e3N25N+i/rh7c3bk36L+uHtzduTfov64e3N25N+i/rh7c3bk36L+uHtzduTfov64e3N25N+i/rh7c3bk36L+uHtzduTfov64e3N25N+i/rh7c3bk36L+uHtzduTfov64e3N25N+i/rh7c3bk36L+uHtzduTfov64e3N25N+i/rh7c3bk36L+uHtzduTfov64e3N25N+i/rh7c3bk36L+uHtzduTfov64e3N25N+i/rh7c3bk36L+uHtzduTfov64e3N25N+i/rh7c3bk36L+uHtzduTfov64e3N25N+i/rh7c3bk36L+uHtzduTfov64e3N25N+i/rh7c3bk36L+uHtzduTfov64e3N25N+i/rh7c3bk36L+uHtzduTfov64e3N25N+i/rh7c3bk36L+uHtzduTfov64e3N25N+i/rh7c3bk36L+uHtzduTfov64e3N25N+i/rh7c3bk36L+uHtzduTfov64e3N25N+i/rh7c3bk36L+uHtzduTfov64e3N25N+i/rh7c3bk36L+uHtzduTfov64e3N25N+i/rh7c3bk36L+uHtzduTfov64e3N25N+i/rh7c3bk36L+uHtzduTfov64e3N25N+i/rh7c3bk36L+uHtzduTfov64e3N25N+i/rh7c3bk36L+uHtzduTfov64e3N25N+i/rh7c3bk36L+uHtzduTfov64e3N25N+i/rh7c3bk36L+uHtzduTfov64e3N25N+i/rh7c3bk36L+uHtzduTfov64e3N25N+i/rh7c3bk36L+uHtzduTfov64e3N25N+i/rh7c3bk36L+uHtzduTfov64e3N25N+i/rh7c3bk36L+uHtzduTfov64e3N25N+i/rh7c3bk36L+uHtzduTfov64e3N25N+i/rh7c3bk36L+uHtzduTfov64e3N25N+i/rh7c3bk36L+uHtzduTfov64e3N25N+i/rh7c3bk36L8zmeD1ga/uvzOZ4PWBr+6/M5ng9YGv7r8zmeD1ga/uvzOZ4PWBr+6/M5ng9YGv7r8zmeD1ga/uvzOZ4PWBr+6/M5ng9YGv7r8zmeD1ga/uvzOZ4PWBr+6/M5ng9YGv7r8zmeD1ga/uvzOZ4PWBr+6/M5ng9YGv7r8zmeD1ga/uvzOZ4PWBr+6/M5ng9YGv7r8zmeD1ga/uvzOZ4PWBr+6/M5ng9YGv7r8zmeD1ga/uvzOZ4PWBr+6/M5ng9YGv7r8zmeD1ga/uvzOZ4PWBr+6/M5ng9YGv7r8zmeD1ga/uvzOZ4PWBr+6/M5ng9YGv7r8zmeD1ga/uvzOZ4PWBr+6/M5ng9YGv7r8zmeD1ga/uvzOZ4PWBr+6/M5ng9YGv7r8zmeD1ga/uvzOZ4PWBr+6/M5ng9YGv7r8zmeD1ga/uvzOZ4PWBr+6/M5ng9YGv7r8zmeD1ga/uvzOZ4PWBr+6/M5ng9YGv7r8zmeD1ga/uvzOZ4PWBr+6/M5ng9YGv7r8zmeD1ga/uvzOZ4PWBr+6/M5ng9YGv7r8zmeD1ga/uvzOZ4PWBr+6/M5ng9YGv7r8zmeD1ga/uvzOZ4PWBr+6/M5ng9YGv7r8zmeD1ga/uvzOZ4PWBr+6/M5ng9YGv7r8zmeD1ga/uvzOZ4PWBr+6/M5ng9YGv7r8zmeD1ga/uvzOZ4PWBr+6/M5ng9YGv7r8zmeD1ga/uvzOZ4PWBr+6/M5ng9YGv7r8zmeD1ga/uvzOZ4PWBr+6/M5ng9YGv7r8zmeD1ga/uvzOZ4PWBr+6/M5ng9YGv7r8zmeD1ga/uvzOZ4PWBr+6/M5ng9YGv7r8zmeD1ga/uvzOZ4PWBr+6/M5ng9YGv7r8zmeD1ga/uvzOZ4PWBr+6/M5ng9YGv7r8zmeD1ga/uvzOZ4PWBr+6/M5ng9YGv7r8zmeD1ga/uvzOZ4PWBr+6/M5ng9YGv7r8zmeD1ga/uvzOZ4PWBr+6/M5ng9YGv7r8zmeD1ga/uvzOZ4PWBr+6/M5ng9YGv7r8zmeD1ga/uvzOZ4PWBr+6/M5ng9YGv7r8zmeD1ga/uvzOZ4PWBr+6/M5ng9YGv7r8zmeD1ga/uvzOZ4PWBr+6/M5ng9YGv7r8zmeD1ga/uvzOZ4PWBr+6/M5ng9YGv7r8zmeD1ga/uvzOZ4PWBr+6/M5ng9YGv7r8zmeD1ga/uvzOZ4PWBr+6/M5ng9YGv7r8zmeD1ga/uvzOZ4PWBr+6/M5ng9YGv7r8zmeD1ga/uvzOZ4PWBr+6/M5ng9YGv7r8zmeD1ga/uvzOZ4PWBr+6/M5ng9YGv7r8zmeD1ga/uvzOZ4PWBr+6/M5ng9YGv7r8zmeD1ga/uvzOZ4PWBr+6/M5ng9YGv7r8zmeD1ga/uvzOZ4PWBr+6/M5ng9YGv7r8zmeD1ga/uvzOZ4PWBr+6/M5ng9YGv7r8zmeD1ga/uvzOZ4PWBr+6/M5ng9YGv7r8zmeD1ga/uvzOZ4PWBr+6/M5ng9YGv7r8zmeD1ga/uvzOZ4PWBr+6/M5ng9YGv7r8zmeD1ga/uvzOZ4PWBr+6/M5ng9YGv7r8zmeD1ga/uvzOZ4PWBr+6/M5ng9YGv7r8zmeD1ga/uvzOZ4PWBr+6/M5ng9YGv7r8zmeD1ga/uvzOZ4PWBr+6/M5ng9YGv7r8zmeD1ga/uvzOZ4PWBr+6/M5ng9YGv7r8zmeD1ga/uvzOZ4PWBr+6/M5ng9YGv7r8zmeD1ga/uvzOZ4PWBr+6/M5ng9YGv7r8zmeD1ga/uvzOZ4PWBr+6/M5ng9YGv7r8zmeD1ga/uvzOZ4PWBr+6/M5ng9YGv7r8zmeD1ga/uvzOZ4PWBr+6/M5ng9YGv7r8zmeD1ga/uvzOZ4PWBr+6/M5ng9YGv7r8zmeD1ga/uvzOZ4PWBr+6/M5ng9YGv7r8zmeD1ga/uvzOZ4PWBr+6/M5ng9YGv7r8zmeD1ga/uvzOZ4PWBr+6/M5ng9YGv7r8zmeD1ga/uvzOZ4PWBr+6/M5ng9YGv7r8zmeD1ga/uvzOZ4PWBr+6/M5ng9YGv7r8zmeD1ga/uvzOZ4PWBr+6/M5ng9YGv7r8zmeD1ga/uvzOZ4PWBr+6/M5ng9YGv7r8zmeD1ga/uvzOZ4PWBr+6/M5ng9YGv7r8zmeD1ga/uvzOZ4PWBr+6/M5ng9YGv7r8zmeD1ga/uvzOZ4PWBr+6/M5ng9YGv7r8zmeD1ga/uvzOZ4PWBr+6/M5ng9YGv7r8zmeD1ga/uvzOZ4PWBr+6/M5ng9YGv7r8zmeD1ga/uvzOZ4PWBr+6/M5ng9YGv7r8zmeD1ga/uvzOZ4PWBr+6/M5ng9YGv7r8zmeD1ga/uvzOZ4PWBr+6/M5ng9YGv7r8zmeD1ga/uvzOZ4PWBr+6/M5ng9YGv7r8zmeD1ga/uvzOZ4PWBr+6/M5ng9YGv7r8zmeD1ga/uvzOZ4PWBr+6/M5ng9YGv7r8zmeD1ga/uvzOZ4PWBr+6/M5ng9YGv7r8zmeD1ga/uvzOZ4PWBr+6/M5ng9YGv7r8zmeD1ga/uvzOZ4PWBr+6/M5ng9YGv7r8zmeD1ga/uvzOZ4PWBr+6/M5ng9YGv7r8zmeD1ga/uvzOZ4PWBr+6/M5ng9YGv7r8zmeD1ga/uvzOZ4PWBr+6/M5ng9YGv7r8zmeD1ga/uvzOZ4PWBr+6/M5ng9YGv7r8zmeD1ga/uvzOZ4PWBr+6/M5ng9YGv7r8zmeD1ga/uvzOZ4PWBr+6/M5ng9YGv7r8zmeD1ga/uvzOZ4PWBr+6/M5ng9YGv7r8zmeD1ga/uvzOZ4PWBr+6/M5ng9YGv7r8zmeD1ga/uvzOZ4PWBr+6/M5ng9YGv7r8zmeD1ga/uvzOZ4PWBr+6/M5ng9YGv7r8zmeD1ga/uvzOZ4PWBr+6/M5ng9YGv7r8zmeD1ga/uvzOZ4PWBr+6/M5ng9YGv7r8zmeD1ga/uvzOZ4PWBr+6/M5ng9YGv7r8zmeD1ga/uvzOZ4PWBr+6/M5ng9YGv7r8zmeD1ga/uvzOZ4PWBr+6/M5ng9YGv7r8zmeD1ga/uvzOZ4PWBr+6/M5ng9YGv7r8zmeD1ga/uvzOZ4PWBr+6/M5ng9YGv7r8zmeD1ga/uvzOZ4PWBr+6/M5ng9YGv7r8zmeD1ga/uvzOZ4PWBr+6/M5ng9YGv7r8zmeD1ga/uvzOZ4PWBr+6/M5ng9YGv7r8zmeD1ga/uvzOZ4PWBr+6/M5ng9YGv7r8zmeD1ga/uvzOZ4PWBr+6/M5ng9YGv7r8zmeD1ga/uvzOZ4PWBr+6/M5ng9YGv7r8zmeD1ga/uvzOZ4PWBr+6/M5ng9YGv7r8zmeD1ga/uvzOZ4PWBr+6/M5ng9YGv7r8zmeD1ga/uvzOZ4PWBr+6/M5ng9YGv7r/AorCK8eHRv8CisIrx4dG/wKKwivHh0b/AorCK8eHRv8CisIrx4dG/wKKwivHh0b/AorCK8eHRv8CisIrx4dG/wKKwivHh0b/AorCK8eHRv8CisIrx4dG/wKKwivHh0b/AorCK8eHRv8CisIrx4dG/wKKwivHh0b/AorCK8eHRv8CisIrx4dG/wKKwivHh0b/AorCK8eHRv8CisIrx4dG/wKKwivHh0b/AorCK8eHRv8CisIrx4dG/wKKwivHh0b/AorCK8eHRv8CisIrx4dG/wKKwivHh0b/AorCK8eHRv8CisIrx4dG/wKKwivHh0b/AorCK8eHRv8CisIrx4dG/wKKwivHh0b/AorCK8eHRv8CisIrx4dG/wKKwivHh0b/AorCK8eHRv8CisIrx4dG/wKKwivHh0b/AorCK8eHRv8CisIrx4dG/wKKwivHh0b/AorCK8eHRv8CisIrx4dG/wKKwivHh0b/AorCK8eHRv8CisIrx4dG/wKKwivHh0b/AorCK8eHRv8CisIrx4dG/wKKwivHh0b/AorCK8eHRv8CisIrx4dG/wKKwivHh0b/AorCK8eHRv8CisIrx4dG/wKKwivHh0b/AorCK8eHRv8CisIrx4dG/wKKwivHh0b/AorCK8eHRv8CisIrx4dG/wKKwivHh0b/AorCK8eHRv8CisIrx4dG/wKKwivHh0b/AorCK8eHRv8CisIrx4dG/wKKwivHh0b/AorCK8eHRv8CisIrx4dG/wKKwivHh0b/AorCK8eHRv8CisIrx4dG/wKKwivHh0b/AorCK8eHRv8CisIrx4dG/wKKwivHh0b/AorCK8eHRv8CisIrx4dG/wKKwivHh0b/AorCK8eHRv8CisIrx4dG/wKKwivHh0b/AorCK8eHRv8CisIrx4dG/wKKwivHh0b/AorCK8eHRv8CisIrx4dG/wKKwivHh0b/AorCK8eHRv8CisIrx4dG/wKKwivHh0b/AorCK8eHRv8CisIrx4dG/wKKwivHh0b/AorCK8eHRv8CisIrx4dG/wKKwivHh0b/AorCK8eHRv8CisIrx4dG/wKKwivHh0b/AorCK8eHRv8CisIrx4dG/wKKwivHh0b/AorCK8eHRv8CisIrx4dG/wKKwivHh0b/AorCK8eHRv8CisIrx4dG/wKKwivHh0b/AorCK8eHRv8CisIrx4dG/wKKwivHh0b/AorCK8eHRv8CisIrx4dG/wKKwivHh0b/AorCK8eHRv8CisIrx4dG/wKKwivHh0b/AorCK8eHRv8CisIrx4dG/wKKwivHh0b/AorCK8eHRv8CisIrx4dG/wKKwivHh0b/AorCK8eHRv8CisIrx4dG/wKKwivHh0b/AorCK8eHRv8CisIrx4dG/wKKwivHh0b/AorCK8eHRv8CisIrx4dG/wKKwivHh0b/AorCK8eHRv8CisIrx4dG/wKKwivHh0b/AorCK8eHRv8CisIrx4dG/wKKwivHh0b/AorCK8eHRv8CisIrx4dG/wKKwivHh0b/AorCK8eHRv8CisIrx4dG/wKKwivHh0b/AorCK8eHRv8CisIrx4dG/wKKwivHh0b/AorCK8eHRv8CisIrx4dG/wKKwivHh0b/AorCK8eHRv8CisIrx4dG/wKKwivHh0b/AorCK8eHRv8CisIrx4dG/wKKwivHh0b/AorCK8eHRv8CisIrx4dG/wKKwivHh0b/AorCK8eHRv8CisIrx4dG/wKKwivHh0b/AorCK8eHRv8CisIrx4dG/wKKwivHh0b/AorCK8eHRv8CisIrx4dG/wKKwivHh0b/AorCK8eHRv8CisIrx4dG/wKKwivHh0b/AorCK8eHRv8CisIrx4dG/wKKwivHh0b/AorCK8eHRv8CisIrx4dG/wKKwivHh0b/AorCK8eHRv8CisIrx4dG/wKKwivHh0b/AorCK8eHRv8CisIrx4dG/wKKwivHh0b/AorCK8eHRv8CisIrx4dG/wKKwivHh0b/AorCK8eHRv8CisIrx4dG/wKKwivHh0b/AorCK8eHRv8CisIrx4dG/wKKwivHh0b/AorCK8eHRv8CisIrx4dG/wKKwivHh0b/AorCK8eHRv8CisIrx4dG/wKKwivHh0b/AorCK8eHRv8CisIrx4dG/wKKwivHh0b/AorCK8eHRv8CisIrx4dG/wKKwivHh0b/AorCK8eHRv8CisIrx4dG/wKKwivHh0b/AorCK8eHRv8CisIrx4dG/wKKwivHh0b/AorCK8eHRv8CisIrx4dG/wKKwivHh0b/AorCK8eHRv8CisIrx4dG/wKKwivHh0b/AorCK8eHRv8CisIrx4dG/wKKwivHh0b/AorCK8eHRv8CisIrx4dG/wKKwivHh0b/AorCK8eHRv8CisIrx4dG/wKKwivHh0b/AorCK8eHRv8CisIrx4dG/wKKwivHh0b/AorCK8eHRv8CisIrx4dG/wKKwivHh0b/AorCK8eHRv8CisIrx4dG/wKKwivHh0b/AorCK8eHRv8CisIrx4dG/wKKwivHh0b/AorCK8eHRv8CisIrx4dG/wKKwivHh0b/AorCK8eHRv8CisIrx4dG/wKKwivHh0b/AorCK8eHRv8CisIrx4dG/wKKwivHh0b/AorCK8eHRvw==\",\"dtype\":\"float64\",\"shape\":[2000]}},\"selected\":{\"id\":\"4d5944be-af7a-4d51-acd1-99c475a3af8f\",\"type\":\"Selection\"},\"selection_policy\":{\"id\":\"00cc492b-0d47-4a08-b3ac-0817be6b329a\",\"type\":\"UnionRenderers\"}},\"id\":\"9ded6b3b-4d42-4c23-b585-399b1847bd5f\",\"type\":\"ColumnDataSource\"},{\"attributes\":{\"line_color\":\"#2222aa\",\"line_width\":3,\"x\":{\"field\":\"x\"},\"y\":{\"field\":\"y\"}},\"id\":\"53bd3b01-8960-44f0-9dad-0f74380b003b\",\"type\":\"Line\"},{\"attributes\":{},\"id\":\"c07f39c6-6f9c-42fb-8763-835276e44e5c\",\"type\":\"BasicTickFormatter\"},{\"attributes\":{},\"id\":\"4d5944be-af7a-4d51-acd1-99c475a3af8f\",\"type\":\"Selection\"}],\"root_ids\":[\"5e1a7222-4d5b-4216-bd7f-a543868bc450\"]},\"title\":\"Bokeh Application\",\"version\":\"0.12.16\"}};\n",
       "  var render_items = [{\"docid\":\"b2cd545c-01a2-45e5-bfa7-4ca1869f3d32\",\"elementid\":\"4e447cc7-ad9a-4c2c-9ca6-063271eab931\",\"modelid\":\"5e1a7222-4d5b-4216-bd7f-a543868bc450\",\"notebook_comms_target\":\"860c0352-5d33-4818-8a3f-83c70b1cb470\"}];\n",
       "  root.Bokeh.embed.embed_items_notebook(docs_json, render_items);\n",
       "\n",
       "  }\n",
       "  if (root.Bokeh !== undefined) {\n",
       "    embed_document(root);\n",
       "  } else {\n",
       "    var attempts = 0;\n",
       "    var timer = setInterval(function(root) {\n",
       "      if (root.Bokeh !== undefined) {\n",
       "        embed_document(root);\n",
       "        clearInterval(timer);\n",
       "      }\n",
       "      attempts++;\n",
       "      if (attempts > 100) {\n",
       "        console.log(\"Bokeh: ERROR: Unable to run BokehJS code because BokehJS library is missing\")\n",
       "        clearInterval(timer);\n",
       "      }\n",
       "    }, 10, root)\n",
       "  }\n",
       "})(window);"
      ],
      "application/vnd.bokehjs_exec.v0+json": ""
     },
     "metadata": {
      "application/vnd.bokehjs_exec.v0+json": {
       "id": "5e1a7222-4d5b-4216-bd7f-a543868bc450"
      }
     },
     "output_type": "display_data"
    },
    {
     "data": {
      "text/html": [
       "<p><code>&lt;Bokeh Notebook handle for <strong>In[18]</strong>&gt;</code></p>"
      ],
      "text/plain": [
       "<bokeh.io.notebook.CommsHandle at 0x1f69268c4a8>"
      ]
     },
     "execution_count": 18,
     "metadata": {},
     "output_type": "execute_result"
    }
   ],
   "source": [
    "show(p, notebook_handle=True)"
   ]
  },
  {
   "cell_type": "code",
   "execution_count": 20,
   "metadata": {},
   "outputs": [
    {
     "data": {
      "application/vnd.jupyter.widget-view+json": {
       "model_id": "8dbef14ba51e41549910206358b67ac2",
       "version_major": 2,
       "version_minor": 0
      },
      "text/plain": [
       "interactive(children=(Dropdown(description='f', options=('sin', 'cos', 'tan'), value='sin'), FloatSlider(value…"
      ]
     },
     "metadata": {},
     "output_type": "display_data"
    },
    {
     "data": {
      "text/plain": [
       "<function __main__.update(f, mu=1, m=1, phi=0)>"
      ]
     },
     "execution_count": 20,
     "metadata": {},
     "output_type": "execute_result"
    }
   ],
   "source": [
    "interact(update, f=[\"sin\", \"cos\", \"tan\"],mu=(0,6,0.1), m=(0,100), phi=(0,5,0.1))"
   ]
  },
  {
   "cell_type": "code",
   "execution_count": null,
   "metadata": {},
   "outputs": [],
   "source": []
  },
  {
   "cell_type": "code",
   "execution_count": null,
   "metadata": {},
   "outputs": [],
   "source": []
  },
  {
   "cell_type": "code",
   "execution_count": null,
   "metadata": {},
   "outputs": [],
   "source": []
  },
  {
   "cell_type": "code",
   "execution_count": null,
   "metadata": {},
   "outputs": [],
   "source": []
  }
 ],
 "metadata": {
  "kernelspec": {
   "display_name": "Python 3",
   "language": "python",
   "name": "python3"
  },
  "language_info": {
   "codemirror_mode": {
    "name": "ipython",
    "version": 3
   },
   "file_extension": ".py",
   "mimetype": "text/x-python",
   "name": "python",
   "nbconvert_exporter": "python",
   "pygments_lexer": "ipython3",
   "version": "3.6.5"
  }
 },
 "nbformat": 4,
 "nbformat_minor": 2
}
